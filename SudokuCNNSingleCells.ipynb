{
 "cells": [
  {
   "cell_type": "code",
   "execution_count": null,
   "metadata": {},
   "outputs": [],
   "source": [
    "## given and entire unsolved sudoku, what is the value of just one cell? let's say, the first cell. "
   ]
  },
  {
   "cell_type": "code",
   "execution_count": 24,
   "metadata": {},
   "outputs": [
    {
     "name": "stdout",
     "output_type": "stream",
     "text": [
      "Done with concatenate\n"
     ]
    }
   ],
   "source": [
    "import numpy as np \n",
    "import pandas as pd\n",
    "import tensorflow as tf \n",
    "from tensorflow import keras\n",
    "from tensorflow.keras.layers import Input, Conv2D, Dense, Flatten, Dropout, BatchNormalization\n",
    "from tensorflow.keras.models import Model\n",
    "from tensorflow.keras.optimizers import SGD\n",
    "import random\n",
    "import matplotlib.pyplot as plt\n",
    "\n",
    "\n",
    "def their_data(filename, size):\n",
    "\tDATA_SIZE = size\n",
    "\tquizzes = np.zeros((DATA_SIZE, 81), np.int32)\n",
    "\tsolutions = np.zeros((DATA_SIZE, 81), np.int32)\n",
    "\tfor i, line in enumerate(open(filename, 'r').read().splitlines()[1:]):\n",
    "\t    quiz, solution = line.split(\",\")\n",
    "\t    for j, q_s in enumerate(zip(quiz, solution)):\n",
    "\t        q, s = q_s\n",
    "\t        quizzes[i, j] = q\n",
    "\t        solutions[i, j] = s\n",
    "\n",
    "\tquizzes = quizzes.reshape((-1, 9, 9))\n",
    "\tsolutions = solutions.reshape((-1, 9, 9))\n",
    "\treturn quizzes, solutions\n",
    "\n",
    "\n",
    "\n",
    "def my_data(filename, size):\n",
    "\tDATA_SIZE = size\n",
    "\tquizzes = np.zeros((DATA_SIZE, 81), np.int32)\n",
    "\tsolutions = np.zeros((DATA_SIZE, 81), np.int32)\n",
    "\tfor i, line in enumerate(open(filename, 'r').read().splitlines()[1:]):\n",
    "\t    quiz, solution = line.split(\",\")\n",
    "\t    quiz = quiz[1:-1]\n",
    "\t    solution = solution[2:-1]\n",
    "\t    for j, q_s in enumerate(zip(quiz, solution)):\n",
    "\t        q, s = q_s\n",
    "\t        quizzes[i, j] = q\n",
    "\t        solutions[i, j] = s\n",
    "\tquizzes = quizzes.reshape((-1, 9, 9))\n",
    "\tsolutions = solutions.reshape((-1, 9, 9))\n",
    "\treturn quizzes, solutions\n",
    "\n",
    "\n",
    "#qmillion, smillion = my_data(\"mixedSudokusBetter.csv\", 1000000)\n",
    "q30k, s30k = my_data(\"30k_mixedSudokus75_80.csv\", 30000)\n",
    "q80, s80 = my_data(\"s_make80.csv\", 5000)\n",
    "#qbig, sbig = their_data(\"1mTheirSudokus.csv\", 1000000)\n",
    "#print(\"Done with trivial files\")\n",
    "q1m, s1m = my_data(\"mixedSudokus1m.csv\", 1000000)\n",
    "print(\"Done with file q1\")\n",
    "#q2m, s2m = my_data(\"mixedSudokus2m.csv\", 1000000)\n",
    "#print(\"Done with file q2\")\n",
    "#q3m, s3m = my_data(\"mixedSudokus3m.csv\", 1000000)\n",
    "#print(\"Done with file q3\")\n",
    "#q4m, s4m = my_data(\"mixedSudokus4m.csv\", 1000000)\n",
    "#print(\"Done with file reading\")\n",
    "\n",
    "\n",
    "mega_quiz = np.concatenate((q1m,q80, q30k), axis=0)\n",
    "mega_sol = np.concatenate((s1m,s80, s30k), axis=0)\n",
    "print(\"Done with concatenate\")"
   ]
  },
  {
   "cell_type": "code",
   "execution_count": 25,
   "metadata": {},
   "outputs": [
    {
     "name": "stdout",
     "output_type": "stream",
     "text": [
      "[4 1 2 3 6 8 9 5 7 6 9 8 1 7 5 3 4 2 3 5 7 4 2 9 1 8 6 5 8 3 7 4 2 6 1 9 9\n",
      " 7 6 5 3 1 4 2 8 2 4 1 9 8 6 5 7 3 7 2 5 6 1 3 8 9 4 8 3 9 2 5 4 7 6 1 1 6\n",
      " 4 8 9 7 2 3 5]\n"
     ]
    }
   ],
   "source": [
    "## flatten the solutions: \n",
    "\n",
    "def flatten_sols(np_arr):\n",
    "    one_puzzle = []\n",
    "    for i in range(0,len(np_arr)):\n",
    "        one_puzzle.append(np_arr[i].flatten())\n",
    "    one_puzzle = np.asarray(one_puzzle)\n",
    "    return one_puzzle\n",
    "\n",
    "mega_sol = flatten_sols(mega_sol)\n",
    "\n",
    "print(mega_sol[0])"
   ]
  },
  {
   "cell_type": "code",
   "execution_count": 26,
   "metadata": {},
   "outputs": [],
   "source": [
    "#mega_quiz[0]"
   ]
  },
  {
   "cell_type": "code",
   "execution_count": 27,
   "metadata": {},
   "outputs": [],
   "source": [
    "#mega_sol[0][0][0]"
   ]
  },
  {
   "cell_type": "code",
   "execution_count": 28,
   "metadata": {},
   "outputs": [],
   "source": [
    "## extract the values of the very first cell of each solution\n",
    "def extract_values(numpy_arr, cell):\n",
    "    values_of_cell = []\n",
    "    for i in range(len(numpy_arr)):\n",
    "        values_of_cell.append(numpy_arr[i][cell])\n",
    "    return np.asarray(values_of_cell)\n",
    "\n",
    "\n",
    "## loop that creates n amount of solution arrays: \n",
    "solutions = [] #list of solution arrays\n",
    "\n",
    "for j in range(0,81):                  ## 9 digit max... need to flatten solutions \n",
    "    s = extract_values(mega_sol,j)\n",
    "    solutions.append(s)\n",
    "\n",
    "#print(solutions[0][2])\n",
    "#solutions[0].shape\n",
    "## solutions is now a list of np arrays, each one representing the nth cell of all given sudoku solutions\n",
    "\n",
    "#print(mega_quiz[0])\n",
    "#print(solutions[0][0])\n",
    "#print(solutions[1][0])\n"
   ]
  },
  {
   "cell_type": "code",
   "execution_count": 29,
   "metadata": {},
   "outputs": [
    {
     "name": "stdout",
     "output_type": "stream",
     "text": [
      "Done with mega shuffle\n"
     ]
    }
   ],
   "source": [
    "## Shuffle, normalize and add extra dimension to n_qmega because of convolution layers \n",
    "SEED = 42\n",
    "np.random.seed(SEED)\n",
    "np.random.shuffle(mega_quiz)\n",
    "\n",
    "## shuffle all sudoku solutions\n",
    "for i in range(len(solutions)):\n",
    "    np.random.seed(SEED)\n",
    "    np.random.shuffle(solutions[i])\n",
    "\n",
    "print(\"Done with mega shuffle\")\n",
    "\n",
    "#print(mega_quiz[0])\n",
    "#print(solutions[0][0])\n",
    "#print(solutions[1][0])\n",
    "\n"
   ]
  },
  {
   "cell_type": "code",
   "execution_count": 30,
   "metadata": {},
   "outputs": [],
   "source": [
    "solutions = np.asarray(solutions)"
   ]
  },
  {
   "cell_type": "code",
   "execution_count": 31,
   "metadata": {},
   "outputs": [
    {
     "data": {
      "text/plain": [
       "array([4, 2, 9, ..., 9, 4, 2])"
      ]
     },
     "execution_count": 31,
     "metadata": {},
     "output_type": "execute_result"
    }
   ],
   "source": [
    "solutions[0]"
   ]
  },
  {
   "cell_type": "code",
   "execution_count": 32,
   "metadata": {},
   "outputs": [
    {
     "data": {
      "text/plain": [
       "(81, 35000)"
      ]
     },
     "execution_count": 32,
     "metadata": {},
     "output_type": "execute_result"
    }
   ],
   "source": [
    "solutions.shape"
   ]
  },
  {
   "cell_type": "code",
   "execution_count": 33,
   "metadata": {},
   "outputs": [
    {
     "name": "stdout",
     "output_type": "stream",
     "text": [
      "Done with normalize\n",
      "added dimension\n"
     ]
    }
   ],
   "source": [
    "## normalize all solutions arrays in solutions list:\n",
    "solutions = solutions / 9.\n",
    "    \n",
    "n_qmega = mega_quiz / 9.\n",
    "\n",
    "print(\"Done with normalize\")\n",
    "\n",
    "\n",
    "## add extra dimension: \n",
    "n_qmega = np.expand_dims(n_qmega, -1)\n",
    "\n",
    "print(\"added dimension\")\n"
   ]
  },
  {
   "cell_type": "code",
   "execution_count": 48,
   "metadata": {},
   "outputs": [
    {
     "data": {
      "text/plain": [
       "array([0.11111111, 0.77777778, 0.11111111, ..., 0.66666667, 0.22222222,\n",
       "       0.66666667])"
      ]
     },
     "execution_count": 48,
     "metadata": {},
     "output_type": "execute_result"
    }
   ],
   "source": [
    "solutions[5]"
   ]
  },
  {
   "cell_type": "code",
   "execution_count": null,
   "metadata": {},
   "outputs": [],
   "source": []
  },
  {
   "cell_type": "code",
   "execution_count": 61,
   "metadata": {},
   "outputs": [
    {
     "name": "stdout",
     "output_type": "stream",
     "text": [
      "Model: \"model_4\"\n",
      "__________________________________________________________________________________________________\n",
      "Layer (type)                    Output Shape         Param #     Connected to                     \n",
      "==================================================================================================\n",
      "input_5 (InputLayer)            [(None, 9, 9, 1)]    0                                            \n",
      "__________________________________________________________________________________________________\n",
      "conv2d_12 (Conv2D)              (None, 9, 9, 16)     160         input_5[0][0]                    \n",
      "__________________________________________________________________________________________________\n",
      "batch_normalization_12 (BatchNo (None, 9, 9, 16)     64          conv2d_12[0][0]                  \n",
      "__________________________________________________________________________________________________\n",
      "conv2d_13 (Conv2D)              (None, 9, 9, 32)     4640        batch_normalization_12[0][0]     \n",
      "__________________________________________________________________________________________________\n",
      "batch_normalization_13 (BatchNo (None, 9, 9, 32)     128         conv2d_13[0][0]                  \n",
      "__________________________________________________________________________________________________\n",
      "conv2d_14 (Conv2D)              (None, 9, 9, 64)     18496       batch_normalization_13[0][0]     \n",
      "__________________________________________________________________________________________________\n",
      "batch_normalization_14 (BatchNo (None, 9, 9, 64)     256         conv2d_14[0][0]                  \n",
      "__________________________________________________________________________________________________\n",
      "flatten_4 (Flatten)             (None, 5184)         0           batch_normalization_14[0][0]     \n",
      "__________________________________________________________________________________________________\n",
      "dropout_6 (Dropout)             (None, 5184)         0           flatten_4[0][0]                  \n",
      "__________________________________________________________________________________________________\n",
      "dense_330 (Dense)               (None, 512)          2654720     dropout_6[0][0]                  \n",
      "__________________________________________________________________________________________________\n",
      "dropout_7 (Dropout)             (None, 512)          0           dense_330[0][0]                  \n",
      "__________________________________________________________________________________________________\n",
      "dense_331 (Dense)               (None, 256)          131328      dropout_7[0][0]                  \n",
      "__________________________________________________________________________________________________\n",
      "dropout_8 (Dropout)             (None, 256)          0           dense_331[0][0]                  \n",
      "__________________________________________________________________________________________________\n",
      "dense_332 (Dense)               (None, 81)           20817       dropout_8[0][0]                  \n",
      "__________________________________________________________________________________________________\n",
      "dense_333 (Dense)               (None, 1)            82          dense_332[0][0]                  \n",
      "__________________________________________________________________________________________________\n",
      "dense_334 (Dense)               (None, 1)            82          dense_332[0][0]                  \n",
      "__________________________________________________________________________________________________\n",
      "dense_335 (Dense)               (None, 1)            82          dense_332[0][0]                  \n",
      "__________________________________________________________________________________________________\n",
      "dense_336 (Dense)               (None, 1)            82          dense_332[0][0]                  \n",
      "__________________________________________________________________________________________________\n",
      "dense_337 (Dense)               (None, 1)            82          dense_332[0][0]                  \n",
      "__________________________________________________________________________________________________\n",
      "dense_338 (Dense)               (None, 1)            82          dense_332[0][0]                  \n",
      "__________________________________________________________________________________________________\n",
      "dense_339 (Dense)               (None, 1)            82          dense_332[0][0]                  \n",
      "__________________________________________________________________________________________________\n",
      "dense_340 (Dense)               (None, 1)            82          dense_332[0][0]                  \n",
      "__________________________________________________________________________________________________\n",
      "dense_341 (Dense)               (None, 1)            82          dense_332[0][0]                  \n",
      "__________________________________________________________________________________________________\n",
      "dense_342 (Dense)               (None, 1)            82          dense_332[0][0]                  \n",
      "__________________________________________________________________________________________________\n",
      "dense_343 (Dense)               (None, 1)            82          dense_332[0][0]                  \n",
      "__________________________________________________________________________________________________\n",
      "dense_344 (Dense)               (None, 1)            82          dense_332[0][0]                  \n",
      "__________________________________________________________________________________________________\n",
      "dense_345 (Dense)               (None, 1)            82          dense_332[0][0]                  \n",
      "__________________________________________________________________________________________________\n",
      "dense_346 (Dense)               (None, 1)            82          dense_332[0][0]                  \n",
      "__________________________________________________________________________________________________\n",
      "dense_347 (Dense)               (None, 1)            82          dense_332[0][0]                  \n",
      "__________________________________________________________________________________________________\n",
      "dense_348 (Dense)               (None, 1)            82          dense_332[0][0]                  \n",
      "__________________________________________________________________________________________________\n",
      "dense_349 (Dense)               (None, 1)            82          dense_332[0][0]                  \n",
      "__________________________________________________________________________________________________\n",
      "dense_350 (Dense)               (None, 1)            82          dense_332[0][0]                  \n",
      "__________________________________________________________________________________________________\n",
      "dense_351 (Dense)               (None, 1)            82          dense_332[0][0]                  \n",
      "__________________________________________________________________________________________________\n",
      "dense_352 (Dense)               (None, 1)            82          dense_332[0][0]                  \n",
      "__________________________________________________________________________________________________\n",
      "dense_353 (Dense)               (None, 1)            82          dense_332[0][0]                  \n",
      "__________________________________________________________________________________________________\n",
      "dense_354 (Dense)               (None, 1)            82          dense_332[0][0]                  \n",
      "__________________________________________________________________________________________________\n",
      "dense_355 (Dense)               (None, 1)            82          dense_332[0][0]                  \n",
      "__________________________________________________________________________________________________\n",
      "dense_356 (Dense)               (None, 1)            82          dense_332[0][0]                  \n",
      "__________________________________________________________________________________________________\n",
      "dense_357 (Dense)               (None, 1)            82          dense_332[0][0]                  \n",
      "__________________________________________________________________________________________________\n",
      "dense_358 (Dense)               (None, 1)            82          dense_332[0][0]                  \n",
      "__________________________________________________________________________________________________\n",
      "dense_359 (Dense)               (None, 1)            82          dense_332[0][0]                  \n",
      "__________________________________________________________________________________________________\n",
      "dense_360 (Dense)               (None, 1)            82          dense_332[0][0]                  \n",
      "__________________________________________________________________________________________________\n",
      "dense_361 (Dense)               (None, 1)            82          dense_332[0][0]                  \n",
      "__________________________________________________________________________________________________\n",
      "dense_362 (Dense)               (None, 1)            82          dense_332[0][0]                  \n",
      "__________________________________________________________________________________________________\n",
      "dense_363 (Dense)               (None, 1)            82          dense_332[0][0]                  \n",
      "__________________________________________________________________________________________________\n",
      "dense_364 (Dense)               (None, 1)            82          dense_332[0][0]                  \n",
      "__________________________________________________________________________________________________\n",
      "dense_365 (Dense)               (None, 1)            82          dense_332[0][0]                  \n",
      "__________________________________________________________________________________________________\n",
      "dense_366 (Dense)               (None, 1)            82          dense_332[0][0]                  \n",
      "__________________________________________________________________________________________________\n",
      "dense_367 (Dense)               (None, 1)            82          dense_332[0][0]                  \n",
      "__________________________________________________________________________________________________\n",
      "dense_368 (Dense)               (None, 1)            82          dense_332[0][0]                  \n",
      "__________________________________________________________________________________________________\n",
      "dense_369 (Dense)               (None, 1)            82          dense_332[0][0]                  \n",
      "__________________________________________________________________________________________________\n",
      "dense_370 (Dense)               (None, 1)            82          dense_332[0][0]                  \n",
      "__________________________________________________________________________________________________\n",
      "dense_371 (Dense)               (None, 1)            82          dense_332[0][0]                  \n",
      "__________________________________________________________________________________________________\n",
      "dense_372 (Dense)               (None, 1)            82          dense_332[0][0]                  \n",
      "__________________________________________________________________________________________________\n",
      "dense_373 (Dense)               (None, 1)            82          dense_332[0][0]                  \n",
      "__________________________________________________________________________________________________\n",
      "dense_374 (Dense)               (None, 1)            82          dense_332[0][0]                  \n",
      "__________________________________________________________________________________________________\n",
      "dense_375 (Dense)               (None, 1)            82          dense_332[0][0]                  \n",
      "__________________________________________________________________________________________________\n",
      "dense_376 (Dense)               (None, 1)            82          dense_332[0][0]                  \n",
      "__________________________________________________________________________________________________\n",
      "dense_377 (Dense)               (None, 1)            82          dense_332[0][0]                  \n",
      "__________________________________________________________________________________________________\n",
      "dense_378 (Dense)               (None, 1)            82          dense_332[0][0]                  \n",
      "__________________________________________________________________________________________________\n",
      "dense_379 (Dense)               (None, 1)            82          dense_332[0][0]                  \n",
      "__________________________________________________________________________________________________\n",
      "dense_380 (Dense)               (None, 1)            82          dense_332[0][0]                  \n",
      "__________________________________________________________________________________________________\n",
      "dense_381 (Dense)               (None, 1)            82          dense_332[0][0]                  \n",
      "__________________________________________________________________________________________________\n",
      "dense_382 (Dense)               (None, 1)            82          dense_332[0][0]                  \n",
      "__________________________________________________________________________________________________\n",
      "dense_383 (Dense)               (None, 1)            82          dense_332[0][0]                  \n",
      "__________________________________________________________________________________________________\n",
      "dense_384 (Dense)               (None, 1)            82          dense_332[0][0]                  \n",
      "__________________________________________________________________________________________________\n",
      "dense_385 (Dense)               (None, 1)            82          dense_332[0][0]                  \n",
      "__________________________________________________________________________________________________\n",
      "dense_386 (Dense)               (None, 1)            82          dense_332[0][0]                  \n",
      "__________________________________________________________________________________________________\n",
      "dense_387 (Dense)               (None, 1)            82          dense_332[0][0]                  \n",
      "__________________________________________________________________________________________________\n",
      "dense_388 (Dense)               (None, 1)            82          dense_332[0][0]                  \n",
      "__________________________________________________________________________________________________\n",
      "dense_389 (Dense)               (None, 1)            82          dense_332[0][0]                  \n",
      "__________________________________________________________________________________________________\n",
      "dense_390 (Dense)               (None, 1)            82          dense_332[0][0]                  \n",
      "__________________________________________________________________________________________________\n",
      "dense_391 (Dense)               (None, 1)            82          dense_332[0][0]                  \n",
      "__________________________________________________________________________________________________\n",
      "dense_392 (Dense)               (None, 1)            82          dense_332[0][0]                  \n",
      "__________________________________________________________________________________________________\n",
      "dense_393 (Dense)               (None, 1)            82          dense_332[0][0]                  \n",
      "__________________________________________________________________________________________________\n",
      "dense_394 (Dense)               (None, 1)            82          dense_332[0][0]                  \n",
      "__________________________________________________________________________________________________\n",
      "dense_395 (Dense)               (None, 1)            82          dense_332[0][0]                  \n",
      "__________________________________________________________________________________________________\n",
      "dense_396 (Dense)               (None, 1)            82          dense_332[0][0]                  \n",
      "__________________________________________________________________________________________________\n",
      "dense_397 (Dense)               (None, 1)            82          dense_332[0][0]                  \n",
      "__________________________________________________________________________________________________\n",
      "dense_398 (Dense)               (None, 1)            82          dense_332[0][0]                  \n",
      "__________________________________________________________________________________________________\n",
      "dense_399 (Dense)               (None, 1)            82          dense_332[0][0]                  \n",
      "__________________________________________________________________________________________________\n",
      "dense_400 (Dense)               (None, 1)            82          dense_332[0][0]                  \n",
      "__________________________________________________________________________________________________\n",
      "dense_401 (Dense)               (None, 1)            82          dense_332[0][0]                  \n",
      "__________________________________________________________________________________________________\n",
      "dense_402 (Dense)               (None, 1)            82          dense_332[0][0]                  \n",
      "__________________________________________________________________________________________________\n",
      "dense_403 (Dense)               (None, 1)            82          dense_332[0][0]                  \n",
      "__________________________________________________________________________________________________\n",
      "dense_404 (Dense)               (None, 1)            82          dense_332[0][0]                  \n",
      "__________________________________________________________________________________________________\n",
      "dense_405 (Dense)               (None, 1)            82          dense_332[0][0]                  \n",
      "__________________________________________________________________________________________________\n",
      "dense_406 (Dense)               (None, 1)            82          dense_332[0][0]                  \n",
      "__________________________________________________________________________________________________\n",
      "dense_407 (Dense)               (None, 1)            82          dense_332[0][0]                  \n",
      "__________________________________________________________________________________________________\n",
      "dense_408 (Dense)               (None, 1)            82          dense_332[0][0]                  \n",
      "__________________________________________________________________________________________________\n",
      "dense_409 (Dense)               (None, 1)            82          dense_332[0][0]                  \n",
      "__________________________________________________________________________________________________\n",
      "dense_410 (Dense)               (None, 1)            82          dense_332[0][0]                  \n",
      "__________________________________________________________________________________________________\n",
      "dense_411 (Dense)               (None, 1)            82          dense_332[0][0]                  \n",
      "__________________________________________________________________________________________________\n",
      "dense_412 (Dense)               (None, 1)            82          dense_332[0][0]                  \n",
      "__________________________________________________________________________________________________\n",
      "dense_413 (Dense)               (None, 1)            82          dense_332[0][0]                  \n",
      "==================================================================================================\n",
      "Total params: 2,837,251\n",
      "Trainable params: 2,837,027\n",
      "Non-trainable params: 224\n",
      "__________________________________________________________________________________________________\n",
      "None\n"
     ]
    },
    {
     "name": "stdout",
     "output_type": "stream",
     "text": [
      "Train on 34965 samples, validate on 35 samples\n",
      "Epoch 1/5\n",
      "34965/34965 [==============================] - 34s 983us/sample - loss: 11.6674 - dense_333_loss: 0.1178 - dense_334_loss: 0.1617 - dense_335_loss: 0.1127 - dense_336_loss: 0.1736 - dense_337_loss: 0.1598 - dense_338_loss: 0.1223 - dense_339_loss: 0.1552 - dense_340_loss: 0.2243 - dense_341_loss: 0.1159 - dense_342_loss: 0.1353 - dense_343_loss: 0.1631 - dense_344_loss: 0.2839 - dense_345_loss: 0.1493 - dense_346_loss: 0.1455 - dense_347_loss: 0.1111 - dense_348_loss: 0.1157 - dense_349_loss: 0.1361 - dense_350_loss: 0.1132 - dense_351_loss: 0.1246 - dense_352_loss: 0.1151 - dense_353_loss: 0.1922 - dense_354_loss: 0.1350 - dense_355_loss: 0.1178 - dense_356_loss: 0.1177 - dense_357_loss: 0.1284 - dense_358_loss: 0.1144 - dense_359_loss: 0.1176 - dense_360_loss: 0.1585 - dense_361_loss: 0.1209 - dense_362_loss: 0.1425 - dense_363_loss: 0.1570 - dense_364_loss: 0.1140 - dense_365_loss: 0.1053 - dense_366_loss: 0.1626 - dense_367_loss: 0.1259 - dense_368_loss: 0.1365 - dense_369_loss: 0.1079 - dense_370_loss: 0.1215 - dense_371_loss: 0.3900 - dense_372_loss: 0.1354 - dense_373_loss: 0.1409 - dense_374_loss: 0.2069 - dense_375_loss: 0.1101 - dense_376_loss: 0.1020 - dense_377_loss: 0.1158 - dense_378_loss: 0.1246 - dense_379_loss: 0.1132 - dense_380_loss: 0.1128 - dense_381_loss: 0.1206 - dense_382_loss: 0.1254 - dense_383_loss: 0.1196 - dense_384_loss: 0.1062 - dense_385_loss: 0.1198 - dense_386_loss: 0.3365 - dense_387_loss: 0.2641 - dense_388_loss: 0.1235 - dense_389_loss: 0.1337 - dense_390_loss: 0.1215 - dense_391_loss: 0.1462 - dense_392_loss: 0.1185 - dense_393_loss: 0.1638 - dense_394_loss: 0.1613 - dense_395_loss: 0.1104 - dense_396_loss: 0.1840 - dense_397_loss: 0.1516 - dense_398_loss: 0.1620 - dense_399_loss: 0.1250 - dense_400_loss: 0.1161 - dense_401_loss: 0.1312 - dense_402_loss: 0.1148 - dense_403_loss: 0.1201 - dense_404_loss: 0.1913 - dense_405_loss: 0.1303 - dense_406_loss: 0.1097 - dense_407_loss: 0.1366 - dense_408_loss: 0.1615 - dense_409_loss: 0.1333 - dense_410_loss: 0.1132 - dense_411_loss: 0.1213 - dense_412_loss: 0.1268 - dense_413_loss: 0.1998 - val_loss: 10.9744 - val_dense_333_loss: 0.1818 - val_dense_334_loss: 0.1518 - val_dense_335_loss: 0.2272 - val_dense_336_loss: 0.1212 - val_dense_337_loss: 0.0936 - val_dense_338_loss: 0.1361 - val_dense_339_loss: 0.0495 - val_dense_340_loss: 0.1417 - val_dense_341_loss: 0.1643 - val_dense_342_loss: 0.1136 - val_dense_343_loss: 0.1019 - val_dense_344_loss: 0.1165 - val_dense_345_loss: 0.1974 - val_dense_346_loss: 0.1361 - val_dense_347_loss: 0.1621 - val_dense_348_loss: 0.1110 - val_dense_349_loss: 0.1165 - val_dense_350_loss: 0.1405 - val_dense_351_loss: 0.1006 - val_dense_352_loss: 0.0914 - val_dense_353_loss: 0.0954 - val_dense_354_loss: 0.1171 - val_dense_355_loss: 0.1282 - val_dense_356_loss: 0.1167 - val_dense_357_loss: 0.1507 - val_dense_358_loss: 0.1539 - val_dense_359_loss: 0.1989 - val_dense_360_loss: 0.0977 - val_dense_361_loss: 0.2019 - val_dense_362_loss: 0.1769 - val_dense_363_loss: 0.0900 - val_dense_364_loss: 0.1220 - val_dense_365_loss: 0.1157 - val_dense_366_loss: 0.1779 - val_dense_367_loss: 0.1147 - val_dense_368_loss: 0.1021 - val_dense_369_loss: 0.1346 - val_dense_370_loss: 0.1026 - val_dense_371_loss: 0.3386 - val_dense_372_loss: 0.1561 - val_dense_373_loss: 0.1058 - val_dense_374_loss: 0.1073 - val_dense_375_loss: 0.1367 - val_dense_376_loss: 0.1267 - val_dense_377_loss: 0.1366 - val_dense_378_loss: 0.1433 - val_dense_379_loss: 0.0943 - val_dense_380_loss: 0.1573 - val_dense_381_loss: 0.1124 - val_dense_382_loss: 0.1904 - val_dense_383_loss: 0.1139 - val_dense_384_loss: 0.2040 - val_dense_385_loss: 0.0862 - val_dense_386_loss: 0.1213 - val_dense_387_loss: 0.1064 - val_dense_388_loss: 0.1025 - val_dense_389_loss: 0.1229 - val_dense_390_loss: 0.0843 - val_dense_391_loss: 0.1280 - val_dense_392_loss: 0.1451 - val_dense_393_loss: 0.1574 - val_dense_394_loss: 0.2066 - val_dense_395_loss: 0.0935 - val_dense_396_loss: 0.1438 - val_dense_397_loss: 0.1767 - val_dense_398_loss: 0.1086 - val_dense_399_loss: 0.1394 - val_dense_400_loss: 0.0973 - val_dense_401_loss: 0.1617 - val_dense_402_loss: 0.0751 - val_dense_403_loss: 0.1183 - val_dense_404_loss: 0.1086 - val_dense_405_loss: 0.1287 - val_dense_406_loss: 0.1571 - val_dense_407_loss: 0.1301 - val_dense_408_loss: 0.1155 - val_dense_409_loss: 0.1506 - val_dense_410_loss: 0.1722 - val_dense_411_loss: 0.1561 - val_dense_412_loss: 0.1696 - val_dense_413_loss: 0.1357\n",
      "Epoch 2/5\n",
      "34965/34965 [==============================] - 10s 289us/sample - loss: 6.8733 - dense_333_loss: 0.0826 - dense_334_loss: 0.0832 - dense_335_loss: 0.0799 - dense_336_loss: 0.0817 - dense_337_loss: 0.0820 - dense_338_loss: 0.0831 - dense_339_loss: 0.0742 - dense_340_loss: 0.0808 - dense_341_loss: 0.0834 - dense_342_loss: 0.0815 - dense_343_loss: 0.0800 - dense_344_loss: 0.0805 - dense_345_loss: 0.0814 - dense_346_loss: 0.0814 - dense_347_loss: 0.0776 - dense_348_loss: 0.0822 - dense_349_loss: 0.0812 - dense_350_loss: 0.0807 - dense_351_loss: 0.0790 - dense_352_loss: 0.0806 - dense_353_loss: 0.0824 - dense_354_loss: 0.0802 - dense_355_loss: 0.0858 - dense_356_loss: 0.0804 - dense_357_loss: 0.0797 - dense_358_loss: 0.0770 - dense_359_loss: 0.0769 - dense_360_loss: 0.0793 - dense_361_loss: 0.0809 - dense_362_loss: 0.0825 - dense_363_loss: 0.0796 - dense_364_loss: 0.0778 - dense_365_loss: 0.0835 - dense_366_loss: 0.0783 - dense_367_loss: 0.0837 - dense_368_loss: 0.0835 - dense_369_loss: 0.0786 - dense_370_loss: 0.0826 - dense_371_loss: 0.3908 - dense_372_loss: 0.0781 - dense_373_loss: 0.0797 - dense_374_loss: 0.0804 - dense_375_loss: 0.0812 - dense_376_loss: 0.0750 - dense_377_loss: 0.0777 - dense_378_loss: 0.0821 - dense_379_loss: 0.0817 - dense_380_loss: 0.0790 - dense_381_loss: 0.0813 - dense_382_loss: 0.0828 - dense_383_loss: 0.0810 - dense_384_loss: 0.0813 - dense_385_loss: 0.0804 - dense_386_loss: 0.0769 - dense_387_loss: 0.0837 - dense_388_loss: 0.0818 - dense_389_loss: 0.0827 - dense_390_loss: 0.0804 - dense_391_loss: 0.0804 - dense_392_loss: 0.0816 - dense_393_loss: 0.0856 - dense_394_loss: 0.0822 - dense_395_loss: 0.0833 - dense_396_loss: 0.0789 - dense_397_loss: 0.0808 - dense_398_loss: 0.0784 - dense_399_loss: 0.0807 - dense_400_loss: 0.0819 - dense_401_loss: 0.0798 - dense_402_loss: 0.0807 - dense_403_loss: 0.0797 - dense_404_loss: 0.0792 - dense_405_loss: 0.0839 - dense_406_loss: 0.0835 - dense_407_loss: 0.0827 - dense_408_loss: 0.0816 - dense_409_loss: 0.0846 - dense_410_loss: 0.0844 - dense_411_loss: 0.0837 - dense_412_loss: 0.0823 - dense_413_loss: 0.0853 - val_loss: 8.7301 - val_dense_333_loss: 0.1550 - val_dense_334_loss: 0.1174 - val_dense_335_loss: 0.1646 - val_dense_336_loss: 0.0902 - val_dense_337_loss: 0.0626 - val_dense_338_loss: 0.1044 - val_dense_339_loss: 0.0428 - val_dense_340_loss: 0.1087 - val_dense_341_loss: 0.1230 - val_dense_342_loss: 0.0882 - val_dense_343_loss: 0.0772 - val_dense_344_loss: 0.0901 - val_dense_345_loss: 0.1533 - val_dense_346_loss: 0.1196 - val_dense_347_loss: 0.1230 - val_dense_348_loss: 0.0900 - val_dense_349_loss: 0.0997 - val_dense_350_loss: 0.1007 - val_dense_351_loss: 0.0726 - val_dense_352_loss: 0.0824 - val_dense_353_loss: 0.0818 - val_dense_354_loss: 0.1061 - val_dense_355_loss: 0.1035 - val_dense_356_loss: 0.0926 - val_dense_357_loss: 0.1199 - val_dense_358_loss: 0.1139 - val_dense_359_loss: 0.1627 - val_dense_360_loss: 0.0767 - val_dense_361_loss: 0.1708 - val_dense_362_loss: 0.1474 - val_dense_363_loss: 0.0710 - val_dense_364_loss: 0.1010 - val_dense_365_loss: 0.0948 - val_dense_366_loss: 0.1329 - val_dense_367_loss: 0.0940 - val_dense_368_loss: 0.0749 - val_dense_369_loss: 0.0920 - val_dense_370_loss: 0.0843 - val_dense_371_loss: 0.3386 - val_dense_372_loss: 0.1217 - val_dense_373_loss: 0.0948 - val_dense_374_loss: 0.0800 - val_dense_375_loss: 0.1180 - val_dense_376_loss: 0.0985 - val_dense_377_loss: 0.1118 - val_dense_378_loss: 0.1175 - val_dense_379_loss: 0.0754 - val_dense_380_loss: 0.1203 - val_dense_381_loss: 0.0904 - val_dense_382_loss: 0.1523 - val_dense_383_loss: 0.0904 - val_dense_384_loss: 0.1593 - val_dense_385_loss: 0.0707 - val_dense_386_loss: 0.0925 - val_dense_387_loss: 0.0955 - val_dense_388_loss: 0.0781 - val_dense_389_loss: 0.0942 - val_dense_390_loss: 0.0699 - val_dense_391_loss: 0.1050 - val_dense_392_loss: 0.1148 - val_dense_393_loss: 0.1350 - val_dense_394_loss: 0.1513 - val_dense_395_loss: 0.0820 - val_dense_396_loss: 0.1254 - val_dense_397_loss: 0.1274 - val_dense_398_loss: 0.0822 - val_dense_399_loss: 0.1170 - val_dense_400_loss: 0.0719 - val_dense_401_loss: 0.1333 - val_dense_402_loss: 0.0642 - val_dense_403_loss: 0.1036 - val_dense_404_loss: 0.0833 - val_dense_405_loss: 0.1073 - val_dense_406_loss: 0.1186 - val_dense_407_loss: 0.0967 - val_dense_408_loss: 0.0836 - val_dense_409_loss: 0.1161 - val_dense_410_loss: 0.1221 - val_dense_411_loss: 0.1184 - val_dense_412_loss: 0.1172 - val_dense_413_loss: 0.0980\n"
     ]
    },
    {
     "name": "stdout",
     "output_type": "stream",
     "text": [
      "Epoch 3/5\n",
      "34965/34965 [==============================] - 10s 294us/sample - loss: 6.5014 - dense_333_loss: 0.0779 - dense_334_loss: 0.0789 - dense_335_loss: 0.0743 - dense_336_loss: 0.0772 - dense_337_loss: 0.0779 - dense_338_loss: 0.0774 - dense_339_loss: 0.0695 - dense_340_loss: 0.0750 - dense_341_loss: 0.0777 - dense_342_loss: 0.0768 - dense_343_loss: 0.0757 - dense_344_loss: 0.0769 - dense_345_loss: 0.0754 - dense_346_loss: 0.0766 - dense_347_loss: 0.0730 - dense_348_loss: 0.0780 - dense_349_loss: 0.0758 - dense_350_loss: 0.0762 - dense_351_loss: 0.0746 - dense_352_loss: 0.0776 - dense_353_loss: 0.0794 - dense_354_loss: 0.0761 - dense_355_loss: 0.0804 - dense_356_loss: 0.0743 - dense_357_loss: 0.0734 - dense_358_loss: 0.0720 - dense_359_loss: 0.0709 - dense_360_loss: 0.0757 - dense_361_loss: 0.0764 - dense_362_loss: 0.0789 - dense_363_loss: 0.0731 - dense_364_loss: 0.0731 - dense_365_loss: 0.0787 - dense_366_loss: 0.0727 - dense_367_loss: 0.0794 - dense_368_loss: 0.0776 - dense_369_loss: 0.0740 - dense_370_loss: 0.0806 - dense_371_loss: 0.3909 - dense_372_loss: 0.0738 - dense_373_loss: 0.0732 - dense_374_loss: 0.0753 - dense_375_loss: 0.0763 - dense_376_loss: 0.0697 - dense_377_loss: 0.0723 - dense_378_loss: 0.0792 - dense_379_loss: 0.0790 - dense_380_loss: 0.0733 - dense_381_loss: 0.0763 - dense_382_loss: 0.0767 - dense_383_loss: 0.0758 - dense_384_loss: 0.0767 - dense_385_loss: 0.0755 - dense_386_loss: 0.0720 - dense_387_loss: 0.0809 - dense_388_loss: 0.0783 - dense_389_loss: 0.0794 - dense_390_loss: 0.0773 - dense_391_loss: 0.0770 - dense_392_loss: 0.0780 - dense_393_loss: 0.0818 - dense_394_loss: 0.0779 - dense_395_loss: 0.0772 - dense_396_loss: 0.0746 - dense_397_loss: 0.0768 - dense_398_loss: 0.0721 - dense_399_loss: 0.0773 - dense_400_loss: 0.0776 - dense_401_loss: 0.0758 - dense_402_loss: 0.0763 - dense_403_loss: 0.0751 - dense_404_loss: 0.0725 - dense_405_loss: 0.0795 - dense_406_loss: 0.0795 - dense_407_loss: 0.0791 - dense_408_loss: 0.0758 - dense_409_loss: 0.0797 - dense_410_loss: 0.0802 - dense_411_loss: 0.0793 - dense_412_loss: 0.0762 - dense_413_loss: 0.0809 - val_loss: 6.5267 - val_dense_333_loss: 0.1061 - val_dense_334_loss: 0.0993 - val_dense_335_loss: 0.0907 - val_dense_336_loss: 0.0656 - val_dense_337_loss: 0.0486 - val_dense_338_loss: 0.0837 - val_dense_339_loss: 0.0403 - val_dense_340_loss: 0.0803 - val_dense_341_loss: 0.1015 - val_dense_342_loss: 0.0617 - val_dense_343_loss: 0.0592 - val_dense_344_loss: 0.0713 - val_dense_345_loss: 0.0885 - val_dense_346_loss: 0.0955 - val_dense_347_loss: 0.0798 - val_dense_348_loss: 0.0790 - val_dense_349_loss: 0.0733 - val_dense_350_loss: 0.0737 - val_dense_351_loss: 0.0556 - val_dense_352_loss: 0.0661 - val_dense_353_loss: 0.0710 - val_dense_354_loss: 0.0790 - val_dense_355_loss: 0.0722 - val_dense_356_loss: 0.0807 - val_dense_357_loss: 0.0915 - val_dense_358_loss: 0.0690 - val_dense_359_loss: 0.0956 - val_dense_360_loss: 0.0588 - val_dense_361_loss: 0.0946 - val_dense_362_loss: 0.0898 - val_dense_363_loss: 0.0550 - val_dense_364_loss: 0.0825 - val_dense_365_loss: 0.0786 - val_dense_366_loss: 0.0981 - val_dense_367_loss: 0.0735 - val_dense_368_loss: 0.0525 - val_dense_369_loss: 0.0704 - val_dense_370_loss: 0.0713 - val_dense_371_loss: 0.3386 - val_dense_372_loss: 0.0946 - val_dense_373_loss: 0.0619 - val_dense_374_loss: 0.0589 - val_dense_375_loss: 0.0922 - val_dense_376_loss: 0.0864 - val_dense_377_loss: 0.0969 - val_dense_378_loss: 0.0857 - val_dense_379_loss: 0.0683 - val_dense_380_loss: 0.0905 - val_dense_381_loss: 0.0761 - val_dense_382_loss: 0.0992 - val_dense_383_loss: 0.0725 - val_dense_384_loss: 0.0912 - val_dense_385_loss: 0.0530 - val_dense_386_loss: 0.0602 - val_dense_387_loss: 0.0824 - val_dense_388_loss: 0.0536 - val_dense_389_loss: 0.0674 - val_dense_390_loss: 0.0622 - val_dense_391_loss: 0.0831 - val_dense_392_loss: 0.0811 - val_dense_393_loss: 0.1055 - val_dense_394_loss: 0.1005 - val_dense_395_loss: 0.0716 - val_dense_396_loss: 0.1086 - val_dense_397_loss: 0.0886 - val_dense_398_loss: 0.0674 - val_dense_399_loss: 0.0927 - val_dense_400_loss: 0.0530 - val_dense_401_loss: 0.0811 - val_dense_402_loss: 0.0581 - val_dense_403_loss: 0.0823 - val_dense_404_loss: 0.0569 - val_dense_405_loss: 0.0808 - val_dense_406_loss: 0.0781 - val_dense_407_loss: 0.0667 - val_dense_408_loss: 0.0652 - val_dense_409_loss: 0.0933 - val_dense_410_loss: 0.0887 - val_dense_411_loss: 0.0852 - val_dense_412_loss: 0.0721 - val_dense_413_loss: 0.0701\n",
      "Epoch 4/5\n",
      "34965/34965 [==============================] - 10s 293us/sample - loss: 6.1903 - dense_333_loss: 0.0727 - dense_334_loss: 0.0748 - dense_335_loss: 0.0679 - dense_336_loss: 0.0729 - dense_337_loss: 0.0734 - dense_338_loss: 0.0732 - dense_339_loss: 0.0681 - dense_340_loss: 0.0714 - dense_341_loss: 0.0718 - dense_342_loss: 0.0731 - dense_343_loss: 0.0725 - dense_344_loss: 0.0748 - dense_345_loss: 0.0713 - dense_346_loss: 0.0734 - dense_347_loss: 0.0696 - dense_348_loss: 0.0744 - dense_349_loss: 0.0718 - dense_350_loss: 0.0732 - dense_351_loss: 0.0717 - dense_352_loss: 0.0729 - dense_353_loss: 0.0760 - dense_354_loss: 0.0717 - dense_355_loss: 0.0757 - dense_356_loss: 0.0698 - dense_357_loss: 0.0683 - dense_358_loss: 0.0677 - dense_359_loss: 0.0671 - dense_360_loss: 0.0743 - dense_361_loss: 0.0736 - dense_362_loss: 0.0764 - dense_363_loss: 0.0689 - dense_364_loss: 0.0692 - dense_365_loss: 0.0736 - dense_366_loss: 0.0695 - dense_367_loss: 0.0759 - dense_368_loss: 0.0722 - dense_369_loss: 0.0710 - dense_370_loss: 0.0784 - dense_371_loss: 0.3909 - dense_372_loss: 0.0691 - dense_373_loss: 0.0687 - dense_374_loss: 0.0723 - dense_375_loss: 0.0724 - dense_376_loss: 0.0649 - dense_377_loss: 0.0664 - dense_378_loss: 0.0752 - dense_379_loss: 0.0751 - dense_380_loss: 0.0691 - dense_381_loss: 0.0731 - dense_382_loss: 0.0719 - dense_383_loss: 0.0701 - dense_384_loss: 0.0720 - dense_385_loss: 0.0725 - dense_386_loss: 0.0683 - dense_387_loss: 0.0783 - dense_388_loss: 0.0760 - dense_389_loss: 0.0759 - dense_390_loss: 0.0761 - dense_391_loss: 0.0744 - dense_392_loss: 0.0729 - dense_393_loss: 0.0798 - dense_394_loss: 0.0727 - dense_395_loss: 0.0719 - dense_396_loss: 0.0712 - dense_397_loss: 0.0741 - dense_398_loss: 0.0659 - dense_399_loss: 0.0734 - dense_400_loss: 0.0726 - dense_401_loss: 0.0718 - dense_402_loss: 0.0726 - dense_403_loss: 0.0712 - dense_404_loss: 0.0687 - dense_405_loss: 0.0752 - dense_406_loss: 0.0767 - dense_407_loss: 0.0754 - dense_408_loss: 0.0727 - dense_409_loss: 0.0756 - dense_410_loss: 0.0766 - dense_411_loss: 0.0751 - dense_412_loss: 0.0713 - dense_413_loss: 0.0762 - val_loss: 5.7593 - val_dense_333_loss: 0.0880 - val_dense_334_loss: 0.0845 - val_dense_335_loss: 0.0609 - val_dense_336_loss: 0.0594 - val_dense_337_loss: 0.0458 - val_dense_338_loss: 0.0741 - val_dense_339_loss: 0.0407 - val_dense_340_loss: 0.0714 - val_dense_341_loss: 0.0843 - val_dense_342_loss: 0.0554 - val_dense_343_loss: 0.0555 - val_dense_344_loss: 0.0675 - val_dense_345_loss: 0.0689 - val_dense_346_loss: 0.0869 - val_dense_347_loss: 0.0693 - val_dense_348_loss: 0.0765 - val_dense_349_loss: 0.0588 - val_dense_350_loss: 0.0617 - val_dense_351_loss: 0.0500 - val_dense_352_loss: 0.0621 - val_dense_353_loss: 0.0677 - val_dense_354_loss: 0.0691 - val_dense_355_loss: 0.0645 - val_dense_356_loss: 0.0757 - val_dense_357_loss: 0.0808 - val_dense_358_loss: 0.0532 - val_dense_359_loss: 0.0709 - val_dense_360_loss: 0.0529 - val_dense_361_loss: 0.0788 - val_dense_362_loss: 0.0690 - val_dense_363_loss: 0.0509 - val_dense_364_loss: 0.0797 - val_dense_365_loss: 0.0644 - val_dense_366_loss: 0.0860 - val_dense_367_loss: 0.0655 - val_dense_368_loss: 0.0471 - val_dense_369_loss: 0.0640 - val_dense_370_loss: 0.0617 - val_dense_371_loss: 0.3386 - val_dense_372_loss: 0.0733 - val_dense_373_loss: 0.0523 - val_dense_374_loss: 0.0500 - val_dense_375_loss: 0.0791 - val_dense_376_loss: 0.0773 - val_dense_377_loss: 0.0866 - val_dense_378_loss: 0.0660 - val_dense_379_loss: 0.0730 - val_dense_380_loss: 0.0794 - val_dense_381_loss: 0.0671 - val_dense_382_loss: 0.0881 - val_dense_383_loss: 0.0689 - val_dense_384_loss: 0.0721 - val_dense_385_loss: 0.0551 - val_dense_386_loss: 0.0597 - val_dense_387_loss: 0.0790 - val_dense_388_loss: 0.0497 - val_dense_389_loss: 0.0571 - val_dense_390_loss: 0.0610 - val_dense_391_loss: 0.0811 - val_dense_392_loss: 0.0726 - val_dense_393_loss: 0.0939 - val_dense_394_loss: 0.0827 - val_dense_395_loss: 0.0661 - val_dense_396_loss: 0.0877 - val_dense_397_loss: 0.0771 - val_dense_398_loss: 0.0625 - val_dense_399_loss: 0.0767 - val_dense_400_loss: 0.0483 - val_dense_401_loss: 0.0721 - val_dense_402_loss: 0.0511 - val_dense_403_loss: 0.0777 - val_dense_404_loss: 0.0491 - val_dense_405_loss: 0.0735 - val_dense_406_loss: 0.0721 - val_dense_407_loss: 0.0639 - val_dense_408_loss: 0.0537 - val_dense_409_loss: 0.0832 - val_dense_410_loss: 0.0758 - val_dense_411_loss: 0.0616 - val_dense_412_loss: 0.0551 - val_dense_413_loss: 0.0650\n"
     ]
    },
    {
     "name": "stdout",
     "output_type": "stream",
     "text": [
      "Epoch 5/5\n",
      "34965/34965 [==============================] - 10s 289us/sample - loss: 5.9181 - dense_333_loss: 0.0693 - dense_334_loss: 0.0699 - dense_335_loss: 0.0644 - dense_336_loss: 0.0682 - dense_337_loss: 0.0703 - dense_338_loss: 0.0684 - dense_339_loss: 0.0662 - dense_340_loss: 0.0679 - dense_341_loss: 0.0661 - dense_342_loss: 0.0701 - dense_343_loss: 0.0703 - dense_344_loss: 0.0725 - dense_345_loss: 0.0674 - dense_346_loss: 0.0703 - dense_347_loss: 0.0669 - dense_348_loss: 0.0713 - dense_349_loss: 0.0680 - dense_350_loss: 0.0708 - dense_351_loss: 0.0685 - dense_352_loss: 0.0701 - dense_353_loss: 0.0712 - dense_354_loss: 0.0686 - dense_355_loss: 0.0717 - dense_356_loss: 0.0649 - dense_357_loss: 0.0640 - dense_358_loss: 0.0660 - dense_359_loss: 0.0652 - dense_360_loss: 0.0713 - dense_361_loss: 0.0706 - dense_362_loss: 0.0739 - dense_363_loss: 0.0646 - dense_364_loss: 0.0643 - dense_365_loss: 0.0698 - dense_366_loss: 0.0669 - dense_367_loss: 0.0719 - dense_368_loss: 0.0697 - dense_369_loss: 0.0682 - dense_370_loss: 0.0752 - dense_371_loss: 0.3909 - dense_372_loss: 0.0654 - dense_373_loss: 0.0661 - dense_374_loss: 0.0685 - dense_375_loss: 0.0673 - dense_376_loss: 0.0618 - dense_377_loss: 0.0599 - dense_378_loss: 0.0711 - dense_379_loss: 0.0706 - dense_380_loss: 0.0657 - dense_381_loss: 0.0696 - dense_382_loss: 0.0687 - dense_383_loss: 0.0660 - dense_384_loss: 0.0693 - dense_385_loss: 0.0695 - dense_386_loss: 0.0654 - dense_387_loss: 0.0768 - dense_388_loss: 0.0727 - dense_389_loss: 0.0723 - dense_390_loss: 0.0744 - dense_391_loss: 0.0729 - dense_392_loss: 0.0683 - dense_393_loss: 0.0774 - dense_394_loss: 0.0681 - dense_395_loss: 0.0687 - dense_396_loss: 0.0680 - dense_397_loss: 0.0720 - dense_398_loss: 0.0619 - dense_399_loss: 0.0688 - dense_400_loss: 0.0676 - dense_401_loss: 0.0679 - dense_402_loss: 0.0686 - dense_403_loss: 0.0689 - dense_404_loss: 0.0668 - dense_405_loss: 0.0721 - dense_406_loss: 0.0747 - dense_407_loss: 0.0726 - dense_408_loss: 0.0703 - dense_409_loss: 0.0719 - dense_410_loss: 0.0736 - dense_411_loss: 0.0685 - dense_412_loss: 0.0679 - dense_413_loss: 0.0735 - val_loss: 5.3313 - val_dense_333_loss: 0.0756 - val_dense_334_loss: 0.0728 - val_dense_335_loss: 0.0562 - val_dense_336_loss: 0.0524 - val_dense_337_loss: 0.0479 - val_dense_338_loss: 0.0650 - val_dense_339_loss: 0.0410 - val_dense_340_loss: 0.0633 - val_dense_341_loss: 0.0686 - val_dense_342_loss: 0.0528 - val_dense_343_loss: 0.0528 - val_dense_344_loss: 0.0681 - val_dense_345_loss: 0.0643 - val_dense_346_loss: 0.0728 - val_dense_347_loss: 0.0679 - val_dense_348_loss: 0.0720 - val_dense_349_loss: 0.0498 - val_dense_350_loss: 0.0577 - val_dense_351_loss: 0.0451 - val_dense_352_loss: 0.0596 - val_dense_353_loss: 0.0622 - val_dense_354_loss: 0.0645 - val_dense_355_loss: 0.0625 - val_dense_356_loss: 0.0727 - val_dense_357_loss: 0.0766 - val_dense_358_loss: 0.0499 - val_dense_359_loss: 0.0620 - val_dense_360_loss: 0.0563 - val_dense_361_loss: 0.0700 - val_dense_362_loss: 0.0593 - val_dense_363_loss: 0.0523 - val_dense_364_loss: 0.0756 - val_dense_365_loss: 0.0595 - val_dense_366_loss: 0.0832 - val_dense_367_loss: 0.0611 - val_dense_368_loss: 0.0477 - val_dense_369_loss: 0.0623 - val_dense_370_loss: 0.0583 - val_dense_371_loss: 0.3386 - val_dense_372_loss: 0.0685 - val_dense_373_loss: 0.0424 - val_dense_374_loss: 0.0413 - val_dense_375_loss: 0.0692 - val_dense_376_loss: 0.0736 - val_dense_377_loss: 0.0766 - val_dense_378_loss: 0.0645 - val_dense_379_loss: 0.0659 - val_dense_380_loss: 0.0729 - val_dense_381_loss: 0.0644 - val_dense_382_loss: 0.0775 - val_dense_383_loss: 0.0661 - val_dense_384_loss: 0.0619 - val_dense_385_loss: 0.0528 - val_dense_386_loss: 0.0594 - val_dense_387_loss: 0.0759 - val_dense_388_loss: 0.0506 - val_dense_389_loss: 0.0516 - val_dense_390_loss: 0.0581 - val_dense_391_loss: 0.0828 - val_dense_392_loss: 0.0693 - val_dense_393_loss: 0.0871 - val_dense_394_loss: 0.0589 - val_dense_395_loss: 0.0642 - val_dense_396_loss: 0.0753 - val_dense_397_loss: 0.0691 - val_dense_398_loss: 0.0617 - val_dense_399_loss: 0.0631 - val_dense_400_loss: 0.0416 - val_dense_401_loss: 0.0597 - val_dense_402_loss: 0.0432 - val_dense_403_loss: 0.0738 - val_dense_404_loss: 0.0458 - val_dense_405_loss: 0.0675 - val_dense_406_loss: 0.0677 - val_dense_407_loss: 0.0623 - val_dense_408_loss: 0.0500 - val_dense_409_loss: 0.0719 - val_dense_410_loss: 0.0787 - val_dense_411_loss: 0.0535 - val_dense_412_loss: 0.0513 - val_dense_413_loss: 0.0596\n"
     ]
    }
   ],
   "source": [
    "i = Input(shape=n_qmega[0].shape)\n",
    "x = Conv2D(16, (3,3), strides=1, activation='relu',padding='same')(i)\n",
    "x = BatchNormalization()(x)\n",
    "x = Conv2D(32, (3,3), strides=1, activation='relu',padding='same')(x)\n",
    "x = BatchNormalization()(x)\n",
    "x = Conv2D(64, (3,3), strides=1, activation='relu',padding='same')(x)\n",
    "x = BatchNormalization()(x)\n",
    "x = Flatten()(x)\n",
    "x = Dropout(0.2)(x)\n",
    "x = Dense(512, activation=\"relu\", bias_initializer=\"random_uniform\")(x)\n",
    "x = Dropout(0.2)(x)\n",
    "x = Dense(256, activation=\"relu\", bias_initializer=\"random_uniform\")(x)\n",
    "x = Dropout(0.2)(x)\n",
    "x = Dense(81, activation=\"relu\", bias_initializer=\"random_uniform\")(x)\n",
    "## 1:\n",
    "c1 = Dense(1, activation=\"linear\", bias_initializer=\"random_uniform\")(x)\n",
    "c2 = Dense(1, activation=\"linear\", bias_initializer=\"random_uniform\")(x)\n",
    "c3 = Dense(1, activation=\"linear\", bias_initializer=\"random_uniform\")(x)\n",
    "c4 = Dense(1, activation=\"linear\", bias_initializer=\"random_uniform\")(x)\n",
    "c5 = Dense(1, activation=\"linear\", bias_initializer=\"random_uniform\")(x)\n",
    "c6 = Dense(1, activation=\"linear\", bias_initializer=\"random_uniform\")(x)\n",
    "c7 = Dense(1, activation=\"linear\", bias_initializer=\"random_uniform\")(x)\n",
    "c8 = Dense(1, activation=\"linear\", bias_initializer=\"random_uniform\")(x)\n",
    "c9 = Dense(1, activation=\"linear\", bias_initializer=\"random_uniform\")(x)\n",
    "## 2:\n",
    "c10 = Dense(1, activation=\"linear\")(x)\n",
    "c11 = Dense(1, activation=\"linear\")(x)\n",
    "c12 = Dense(1, activation=\"linear\")(x)\n",
    "c13 = Dense(1, activation=\"linear\")(x)\n",
    "c14 = Dense(1, activation=\"linear\")(x)\n",
    "c15 = Dense(1, activation=\"linear\")(x)\n",
    "c16 = Dense(1, activation=\"linear\")(x)\n",
    "c17 = Dense(1, activation=\"linear\")(x)\n",
    "c18 = Dense(1, activation=\"linear\")(x)\n",
    "## 3:\n",
    "c19 = Dense(1, activation=\"linear\", bias_initializer=\"random_normal\")(x)\n",
    "c20 = Dense(1, activation=\"linear\", bias_initializer=\"random_normal\")(x)\n",
    "c21 = Dense(1, activation=\"linear\", bias_initializer=\"random_normal\")(x)\n",
    "c22 = Dense(1, activation=\"linear\", bias_initializer=\"random_normal\")(x)\n",
    "c23 = Dense(1, activation=\"linear\", bias_initializer=\"random_normal\")(x)\n",
    "c24 = Dense(1, activation=\"linear\", bias_initializer=\"random_normal\")(x)\n",
    "c25 = Dense(1, activation=\"linear\", bias_initializer=\"random_normal\")(x)\n",
    "c26 = Dense(1, activation=\"linear\", bias_initializer=\"random_normal\")(x)\n",
    "c27 = Dense(1, activation=\"linear\", bias_initializer=\"random_normal\")(x)\n",
    "## 4:\n",
    "c28 = Dense(1, activation=\"linear\")(x)\n",
    "c29 = Dense(1, activation=\"linear\")(x)\n",
    "c30 = Dense(1, activation=\"linear\")(x)\n",
    "c31 = Dense(1, activation=\"linear\")(x)\n",
    "c32 = Dense(1, activation=\"linear\")(x)\n",
    "c33 = Dense(1, activation=\"linear\")(x)\n",
    "c34 = Dense(1, activation=\"linear\")(x)\n",
    "c35 = Dense(1, activation=\"linear\")(x)\n",
    "c36 = Dense(1, activation=\"linear\")(x)\n",
    "## 5:\n",
    "c37 = Dense(1, activation=\"relu\")(x)\n",
    "c38 = Dense(1, activation=\"relu\")(x)\n",
    "c39 = Dense(1, activation=\"relu\")(x)\n",
    "c40 = Dense(1, activation=\"relu\")(x)\n",
    "c41 = Dense(1, activation=\"relu\")(x)\n",
    "c42 = Dense(1, activation=\"relu\")(x)\n",
    "c43 = Dense(1, activation=\"relu\")(x)\n",
    "c44 = Dense(1, activation=\"relu\")(x)\n",
    "c45 = Dense(1, activation=\"relu\")(x)\n",
    "## 6:\n",
    "c46 = Dense(1, activation=\"linear\", bias_initializer=\"random_normal\")(x)\n",
    "c47 = Dense(1, activation=\"linear\", bias_initializer=\"random_normal\")(x)\n",
    "c48 = Dense(1, activation=\"linear\", bias_initializer=\"random_normal\")(x)\n",
    "c49 = Dense(1, activation=\"linear\", bias_initializer=\"random_normal\")(x)\n",
    "c50 = Dense(1, activation=\"linear\", bias_initializer=\"random_normal\")(x)\n",
    "c51 = Dense(1, activation=\"linear\", bias_initializer=\"random_normal\")(x)\n",
    "c52 = Dense(1, activation=\"linear\", bias_initializer=\"random_normal\")(x)\n",
    "c53 = Dense(1, activation=\"linear\", bias_initializer=\"random_normal\")(x)\n",
    "c54 = Dense(1, activation=\"linear\", bias_initializer=\"random_normal\")(x)\n",
    "## 7:\n",
    "c55 = Dense(1, activation=\"linear\", bias_initializer=\"random_normal\")(x)\n",
    "c56 = Dense(1, activation=\"linear\", bias_initializer=\"random_normal\")(x)\n",
    "c57 = Dense(1, activation=\"linear\", bias_initializer=\"random_normal\")(x)\n",
    "c58 = Dense(1, activation=\"linear\", bias_initializer=\"random_normal\")(x)\n",
    "c59 = Dense(1, activation=\"linear\", bias_initializer=\"random_normal\")(x)\n",
    "c60 = Dense(1, activation=\"linear\", bias_initializer=\"random_normal\")(x)\n",
    "c61 = Dense(1, activation=\"linear\", bias_initializer=\"random_normal\")(x)\n",
    "c62 = Dense(1, activation=\"linear\", bias_initializer=\"random_normal\")(x)\n",
    "c63 = Dense(1, activation=\"linear\", bias_initializer=\"random_normal\")(x)\n",
    "## 8:\n",
    "c64 = Dense(1, activation=\"linear\", bias_initializer=\"random_normal\")(x)\n",
    "c65 = Dense(1, activation=\"linear\", bias_initializer=\"random_normal\")(x)\n",
    "c66 = Dense(1, activation=\"linear\", bias_initializer=\"random_normal\")(x)\n",
    "c67 = Dense(1, activation=\"linear\", bias_initializer=\"random_normal\")(x)\n",
    "c68 = Dense(1, activation=\"linear\", bias_initializer=\"random_normal\")(x)\n",
    "c69 = Dense(1, activation=\"linear\", bias_initializer=\"random_normal\")(x)\n",
    "c70 = Dense(1, activation=\"linear\", bias_initializer=\"random_normal\")(x)\n",
    "c71 = Dense(1, activation=\"linear\", bias_initializer=\"random_normal\")(x)\n",
    "c72 = Dense(1, activation=\"linear\", bias_initializer=\"random_normal\")(x)\n",
    "## 9:\n",
    "c73 = Dense(1, activation=\"linear\", bias_initializer=\"random_normal\")(x)\n",
    "c74 = Dense(1, activation=\"linear\", bias_initializer=\"random_normal\")(x)\n",
    "c75 = Dense(1, activation=\"linear\", bias_initializer=\"random_normal\")(x)\n",
    "c76 = Dense(1, activation=\"linear\", bias_initializer=\"random_normal\")(x)\n",
    "c77 = Dense(1, activation=\"linear\", bias_initializer=\"random_normal\")(x)\n",
    "c78 = Dense(1, activation=\"linear\", bias_initializer=\"random_normal\")(x)\n",
    "c79 = Dense(1, activation=\"linear\", bias_initializer=\"random_normal\")(x)\n",
    "c80 = Dense(1, activation=\"linear\", bias_initializer=\"random_normal\")(x)\n",
    "c81 = Dense(1, activation=\"linear\", bias_initializer=\"random_normal\")(x)\n",
    "\n",
    "\n",
    "model = Model(i, [c1,c2,c3,c4,c5,c6,c7,c8,c9,\n",
    "                 c10,c11,c12,c13,c14,c15,c16,c17,c18,\n",
    "                 c19,c20,c21,c22,c23,c24,c25,c26,c27,\n",
    "                 c28,c29,c30,c31,c32,c33,c34,c35,c36,\n",
    "                 c37,c38,c39,c40,c41,c42,c43,c44,c45,\n",
    "                 c46,c47,c48,c49,c50,c51,c52,c53,c54,\n",
    "                 c55,c56,c57,c58,c59,c60,c61,c62,c63,\n",
    "                 c64,c65,c66,c67,c68,c69,c70,c71,c72,\n",
    "                 c73,c74,c75,c76,c77,c78,c79,c80,c81])\n",
    "\n",
    "opt = keras.optimizers.Adam(lr=0.01)\n",
    "opt2 = keras.optimizers.SGD(lr=0.01, nesterov=True)\n",
    "\n",
    "## compile and fit model: \n",
    "\n",
    "model.compile(optimizer = 'adam',\n",
    "\tloss=\"mse\",\n",
    "\tmetrics=[])\n",
    "\n",
    "print(model.summary())\n",
    "\n",
    "r = model.fit(n_qmega, \n",
    "              [solutions[0], solutions[1],solutions[2], solutions[3],solutions[4], solutions[5],solutions[6], solutions[7], solutions[8],\n",
    "              solutions[9], solutions[10],solutions[11], solutions[12],solutions[13], solutions[14],solutions[15], solutions[16], solutions[17],\n",
    "              solutions[18], solutions[19],solutions[20], solutions[21],solutions[22], solutions[23],solutions[24], solutions[25], solutions[26],\n",
    "              solutions[27], solutions[28],solutions[29], solutions[30],solutions[31], solutions[32],solutions[33], solutions[34], solutions[35],\n",
    "              solutions[36], solutions[37],solutions[38], solutions[39],solutions[40], solutions[41],solutions[42], solutions[43], solutions[44],\n",
    "              solutions[45], solutions[46],solutions[47], solutions[48],solutions[49], solutions[50],solutions[51], solutions[52], solutions[53],\n",
    "              solutions[54], solutions[55],solutions[56], solutions[57],solutions[58], solutions[59],solutions[60], solutions[61], solutions[62],\n",
    "              solutions[63], solutions[64],solutions[65], solutions[66],solutions[67], solutions[68],solutions[69], solutions[70], solutions[71],\n",
    "              solutions[72], solutions[73],solutions[74], solutions[75],solutions[76], solutions[77],solutions[78], solutions[79], solutions[80]], \n",
    "               epochs=20, batch_size=500, validation_split=0.001, verbose=1)\n",
    "               \n",
    "               \n",
    "               "
   ]
  },
  {
   "cell_type": "code",
   "execution_count": 62,
   "metadata": {},
   "outputs": [
    {
     "data": {
      "text/plain": [
       "<matplotlib.legend.Legend at 0x236a2793388>"
      ]
     },
     "execution_count": 62,
     "metadata": {},
     "output_type": "execute_result"
    },
    {
     "data": {
      "image/png": "[encoded data removed]",
      "text/plain": [
       "<Figure size 432x288 with 1 Axes>"
      ]
     },
     "metadata": {
      "needs_background": "light"
     },
     "output_type": "display_data"
    }
   ],
   "source": [
    "## Plot model loss over time\n",
    "plt.plot(r.history['loss'], label='loss')\n",
    "plt.plot(r.history['val_loss'], label='val_loss')\n",
    "plt.legend()"
   ]
  },
  {
   "cell_type": "code",
   "execution_count": 63,
   "metadata": {},
   "outputs": [],
   "source": [
    "# Plot model accuracy over time\n",
    "#plt.plot(r.history['dense_12_accuracy'], label='acc')\n",
    "#plt.plot(r.history['val_dense_12_accuracy'], label='val_acc')\n",
    "#plt.legend()"
   ]
  },
  {
   "cell_type": "code",
   "execution_count": 64,
   "metadata": {},
   "outputs": [],
   "source": [
    "## check multi output solutions:\n",
    "\n",
    "validation_set_quizzes = n_qmega[0:15000,:,:,:]\n",
    "\n",
    "p1,p2,p3,p4,p5,p6,p7,p8,p9,p10,p11,p12,p13,p14,p15,p16,p17,p18,p19,p20,p21,p22,p23,p24,p25,p26,p27,p28,p29,p30,p31,p32,p33,p34,p35,p36,p37,p38,p39,p40,p41,p42,p43,p44,p45,p46,p47,p48,p49,p50,p51,p52,p53,p54,p55,p56,p57,p58,p59,p60,p61,p62,p63,p64,p65,p66,p67,p68,p69,p70,p71,p72,p73,p74,p75,p76,p77,p78,p79,p80,p81 = model.predict(validation_set_quizzes)\n",
    "\n",
    "\n",
    "# p1 shape = (15000, 1), etc.\n",
    "# p1 = all sudokus, 1st cell, p2 = all sudokus 2nd cell, etc. \n",
    "# so, I need to compare p1 with solutions[0], because solutions[0], is all sudokus' first cell.\n"
   ]
  },
  {
   "cell_type": "code",
   "execution_count": 65,
   "metadata": {},
   "outputs": [
    {
     "data": {
      "text/plain": [
       "(81, 35000)"
      ]
     },
     "execution_count": 65,
     "metadata": {},
     "output_type": "execute_result"
    }
   ],
   "source": [
    "solutions.shape"
   ]
  },
  {
   "cell_type": "code",
   "execution_count": 66,
   "metadata": {},
   "outputs": [],
   "source": [
    "## reverse normalize: \n",
    "##\n",
    "p1 = np.round((p1 *9), decimals=0) \n",
    "p2 = np.round((p2 *9), decimals=0) \n",
    "p3 = np.round((p3 *9), decimals=0) \n",
    "p4 = np.round((p4 *9), decimals=0) \n",
    "p5 = np.round((p5 *9), decimals=0) \n",
    "p6 = np.round((p6 *9), decimals=0) \n",
    "p7 = np.round((p7 *9), decimals=0) \n",
    "p8 = np.round((p8 *9), decimals=0) \n",
    "p9 = np.round((p9 *9), decimals=0) \n",
    "##\n",
    "p10 = np.round((p10 *9), decimals=0) \n",
    "p11 = np.round((p11 *9), decimals=0) \n",
    "p12 = np.round((p12 *9), decimals=0) \n",
    "p13 = np.round((p13 *9), decimals=0) \n",
    "p14 = np.round((p14 *9), decimals=0) \n",
    "p15 = np.round((p15 *9), decimals=0) \n",
    "p16 = np.round((p16 *9), decimals=0) \n",
    "p17 = np.round((p17 *9), decimals=0) \n",
    "p18 = np.round((p18 *9), decimals=0) \n",
    "##\n",
    "p19 = np.round((p19 *9), decimals=0) \n",
    "p20 = np.round((p20 *9), decimals=0) \n",
    "p21 = np.round((p21 *9), decimals=0) \n",
    "p22 = np.round((p22 *9), decimals=0) \n",
    "p23 = np.round((p23 *9), decimals=0) \n",
    "p24 = np.round((p24 *9), decimals=0) \n",
    "p25 = np.round((p25 *9), decimals=0) \n",
    "p26 = np.round((p26 *9), decimals=0) \n",
    "p27 = np.round((p27 *9), decimals=0) \n",
    "##\n",
    "p28 = np.round((p28 *9), decimals=0) \n",
    "p29 = np.round((p29 *9), decimals=0) \n",
    "p30 = np.round((p30 *9), decimals=0) \n",
    "p31 = np.round((p31 *9), decimals=0) \n",
    "p32 = np.round((p32 *9), decimals=0) \n",
    "p33 = np.round((p33 *9), decimals=0) \n",
    "p34 = np.round((p34 *9), decimals=0) \n",
    "p35 = np.round((p35 *9), decimals=0) \n",
    "p36 = np.round((p36 *9), decimals=0) \n",
    "##\n",
    "p37 = np.round((p37 *9), decimals=0) \n",
    "p38 = np.round((p38 *9), decimals=0) \n",
    "p39 = np.round((p39 *9), decimals=0) \n",
    "p40 = np.round((p40 *9), decimals=0) \n",
    "p41 = np.round((p41 *9), decimals=0) \n",
    "p42 = np.round((p42 *9), decimals=0) \n",
    "p43 = np.round((p43 *9), decimals=0) \n",
    "p44 = np.round((p44 *9), decimals=0) \n",
    "p45 = np.round((p45 *9), decimals=0) \n",
    "##\n",
    "p46 = np.round((p46 *9), decimals=0) \n",
    "p47 = np.round((p47 *9), decimals=0) \n",
    "p48 = np.round((p48 *9), decimals=0) \n",
    "p49 = np.round((p49 *9), decimals=0) \n",
    "p50 = np.round((p50 *9), decimals=0) \n",
    "p51 = np.round((p51 *9), decimals=0) \n",
    "p52 = np.round((p52 *9), decimals=0) \n",
    "p53 = np.round((p53 *9), decimals=0) \n",
    "p54 = np.round((p54 *9), decimals=0) \n",
    "##\n",
    "p55 = np.round((p55 *9), decimals=0) \n",
    "p56 = np.round((p56 *9), decimals=0) \n",
    "p57 = np.round((p57 *9), decimals=0) \n",
    "p58 = np.round((p58 *9), decimals=0) \n",
    "p59 = np.round((p59 *9), decimals=0) \n",
    "p60 = np.round((p60 *9), decimals=0) \n",
    "p61 = np.round((p61 *9), decimals=0) \n",
    "p62 = np.round((p62 *9), decimals=0) \n",
    "p63 = np.round((p63 *9), decimals=0) \n",
    "##\n",
    "p64 = np.round((p64 *9), decimals=0) \n",
    "p65 = np.round((p65 *9), decimals=0) \n",
    "p66 = np.round((p66 *9), decimals=0) \n",
    "p67 = np.round((p67 *9), decimals=0) \n",
    "p68 = np.round((p68 *9), decimals=0) \n",
    "p69 = np.round((p69 *9), decimals=0) \n",
    "p70 = np.round((p70 *9), decimals=0) \n",
    "p71 = np.round((p71 *9), decimals=0) \n",
    "p72 = np.round((p72 *9), decimals=0) \n",
    "##\n",
    "p73 = np.round((p73 *9), decimals=0) \n",
    "p74 = np.round((p74 *9), decimals=0) \n",
    "p75 = np.round((p75 *9), decimals=0) \n",
    "p76 = np.round((p76 *9), decimals=0) \n",
    "p77 = np.round((p77 *9), decimals=0) \n",
    "p78 = np.round((p78 *9), decimals=0) \n",
    "p79 = np.round((p79 *9), decimals=0) \n",
    "p80 = np.round((p80 *9), decimals=0) \n",
    "p81 = np.round((p81 *9), decimals=0) \n",
    "\n",
    "sol = solutions\n",
    "sol = np.round((sol * 9), decimals=0)\n"
   ]
  },
  {
   "cell_type": "code",
   "execution_count": 67,
   "metadata": {},
   "outputs": [
    {
     "name": "stdout",
     "output_type": "stream",
     "text": [
      "[[4. 4. 5. 5. 4. 6. 5. 3. 6.]\n",
      " [6. 4. 5. 4. 4. 5. 4. 5. 6.]\n",
      " [4. 5. 5. 4. 6. 6. 3. 4. 6.]\n",
      " [4. 5. 4. 5. 5. 5. 5. 5. 6.]\n",
      " [5. 6. 0. 6. 3. 3. 6. 4. 7.]\n",
      " [7. 6. 5. 7. 3. 3. 4. 5. 3.]\n",
      " [4. 4. 6. 5. 6. 5. 5. 6. 4.]\n",
      " [5. 3. 4. 3. 7. 4. 6. 6. 4.]\n",
      " [6. 6. 3. 4. 3. 6. 5. 5. 3.]]\n"
     ]
    }
   ],
   "source": [
    "#recreate the original sudoku shape from predictions:\n",
    "all_predictions = []\n",
    "for i in range(0, 15000):\n",
    "    sudoku_prediction = np.array([p1[i][0],p2[i][0],p3[i][0],p4[i][0],p5[i][0],p6[i][0],p7[i][0],p8[i][0],p9[i][0],\n",
    "                                 p10[i][0],p11[i][0],p12[i][0],p13[i][0],p14[i][0],p15[i][0],p16[i][0],p17[i][0],p18[i][0],\n",
    "                                 p19[i][0],p20[i][0],p21[i][0],p22[i][0],p23[i][0],p24[i][0],p25[i][0],p26[i][0],p27[i][0],\n",
    "                                 p28[i][0],p29[i][0],p30[i][0],p31[i][0],p32[i][0],p33[i][0],p34[i][0],p35[i][0],p36[i][0],\n",
    "                                 p37[i][0],p38[i][0],p39[i][0],p40[i][0],p41[i][0],p42[i][0],p43[i][0],p44[i][0],p45[i][0],\n",
    "                                 p46[i][0],p47[i][0],p48[i][0],p49[i][0],p50[i][0],p51[i][0],p52[i][0],p53[i][0],p54[i][0],\n",
    "                                 p55[i][0],p56[i][0],p57[i][0],p58[i][0],p59[i][0],p60[i][0],p61[i][0],p62[i][0],p63[i][0],\n",
    "                                 p64[i][0],p65[i][0],p66[i][0],p67[i][0],p68[i][0],p69[i][0],p70[i][0],p71[i][0],p72[i][0],\n",
    "                                 p73[i][0],p74[i][0],p75[i][0],p76[i][0],p77[i][0],p78[i][0],p79[i][0],p80[i][0],p81[i][0]])\n",
    "    all_predictions.append(sudoku_prediction)\n",
    "    \n",
    "all_predictions = np.asarray(all_predictions)\n",
    "\n",
    "all_reshaped = np.reshape(all_predictions, (-1,9,9))\n",
    "\n",
    "\n",
    "print(all_reshaped[9])"
   ]
  },
  {
   "cell_type": "code",
   "execution_count": 73,
   "metadata": {},
   "outputs": [
    {
     "name": "stdout",
     "output_type": "stream",
     "text": [
      "Unique Values in Prediction:  [0. 1. 2. 3. 4. 5. 6. 7. 8. 9.]\n",
      "Occurence Count in Prediction:  [ 15000    157   8745 100658 347715 447321 240029  51611   3679     85]\n",
      "\n"
     ]
    },
    {
     "data": {
      "image/png": "[encoded data removed]",
      "text/plain": [
       "<Figure size 432x288 with 1 Axes>"
      ]
     },
     "metadata": {
      "needs_background": "light"
     },
     "output_type": "display_data"
    }
   ],
   "source": [
    "# Check Range of Values in Predictions:\n",
    "preds = all_reshaped\n",
    "uniqueValues, occurCount = np.unique(preds, return_counts=True)\n",
    "\n",
    "\n",
    "print(\"Unique Values in Prediction: \", uniqueValues)\n",
    "print(\"Occurence Count in Prediction: \", occurCount)\n",
    "print()\n",
    "\n",
    "\n",
    "## Plot Range of Values in Prediction\n",
    "histogramP = plt.bar(uniqueValues, occurCount, )\n",
    "plt.xlabel('Distribution of Digits in Sudoku Solutions')\n",
    "plt.ylabel('Frequency')\n",
    "plt.show()"
   ]
  },
  {
   "cell_type": "code",
   "execution_count": 69,
   "metadata": {},
   "outputs": [
    {
     "name": "stdout",
     "output_type": "stream",
     "text": [
      "p1 has 2084 correct predictions.  13.893333333333333  percent accurate!\n",
      "p11 has 2032 correct predictions  13.546666666666667  percent accurate!\n",
      "p21 has 2052 correct predictions.  13.68  percent accurate!\n",
      "p31 has  2277 correct predictions  15.18  percent accurate!\n",
      "p41 has 2152 correct predictions.  14.346666666666666  percent accurate!\n",
      "p51 has 2252 correct predictions  15.013333333333334  percent accurate!\n",
      "p61 has 1867 correct predictions.  12.446666666666667  percent accurate!\n",
      "p71 has 2048 correct predictions  13.653333333333334  percent accurate!\n",
      "p81 has 1949 correct predictions.  12.993333333333334  percent accurate!\n"
     ]
    }
   ],
   "source": [
    "p1_bool = []\n",
    "p11_bool = []\n",
    "p21_bool = []\n",
    "p31_bool = []\n",
    "p41_bool = []\n",
    "p51_bool = []\n",
    "p61_bool = []\n",
    "p71_bool = []\n",
    "p81_bool = []\n",
    "\n",
    "\n",
    "for i in range(0, 15000):\n",
    "    p1_bool.append(p1[i][0] == sol[0][i])\n",
    "    p11_bool.append(p11[i][0] == sol[10][i])\n",
    "    p21_bool.append(p21[i][0] == sol[20][i])\n",
    "    p31_bool.append(p31[i][0] == sol[30][i])\n",
    "    p41_bool.append(p41[i][0] == sol[40][i])\n",
    "    p51_bool.append(p51[i][0] == sol[50][i])\n",
    "    p61_bool.append(p61[i][0] == sol[60][i])\n",
    "    p71_bool.append(p71[i][0] == sol[70][i])\n",
    "    p81_bool.append(p81[i][0] == sol[80][i])\n",
    "\n",
    "\n",
    "p1_trues = p1_bool.count(True)\n",
    "p11_trues = p11_bool.count(True)\n",
    "p21_trues = p21_bool.count(True)\n",
    "p31_trues = p31_bool.count(True)\n",
    "p41_trues = p41_bool.count(True)\n",
    "p51_trues = p51_bool.count(True)\n",
    "p61_trues = p61_bool.count(True)\n",
    "p71_trues = p71_bool.count(True)\n",
    "p81_trues = p81_bool.count(True)\n",
    "\n",
    "\n",
    "print(\"p1 has\", p1_trues, \"correct predictions. \", p1_trues / 150, \" percent accurate!\" )\n",
    "print(\"p11 has\", p11_trues, \"correct predictions \", p11_trues / 150, \" percent accurate!\")\n",
    "print(\"p21 has\", p21_trues, \"correct predictions. \", p21_trues / 150, \" percent accurate!\" )\n",
    "print(\"p31 has \", p31_trues, \"correct predictions \", p31_trues / 150, \" percent accurate!\")\n",
    "print(\"p41 has\", p41_trues, \"correct predictions. \", p41_trues / 150, \" percent accurate!\" )\n",
    "print(\"p51 has\", p51_trues, \"correct predictions \", p51_trues / 150, \" percent accurate!\")\n",
    "print(\"p61 has\", p61_trues, \"correct predictions. \", p61_trues / 150, \" percent accurate!\" )\n",
    "print(\"p71 has\", p71_trues, \"correct predictions \", p71_trues / 150, \" percent accurate!\")\n",
    "print(\"p81 has\", p81_trues, \"correct predictions. \", p81_trues / 150, \" percent accurate!\" )\n"
   ]
  },
  {
   "cell_type": "code",
   "execution_count": 70,
   "metadata": {},
   "outputs": [
    {
     "name": "stdout",
     "output_type": "stream",
     "text": [
      "#####################################################################\n",
      "\n",
      "ACCURACY: \n",
      "About  0.0  percent of predicted solutions are correct\n",
      "0  of  1000  predicted sudokus were solved correctly\n",
      "\n",
      "#####################################################################\n"
     ]
    }
   ],
   "source": [
    "## SUDOKU SOLUTION CHECKING LOGIC:\n",
    "#master functions to check a sudoku:\n",
    "\n",
    "def isSolved(sudoku):\n",
    "\treturn (check_rows(sudoku) and check_cols(sudoku) and check_blocks(sudoku))\n",
    "\n",
    "def check_rows(arr):\n",
    "\tfor l in arr:\n",
    "\t\tmy_list = []\n",
    "\t\tfor i in l:\n",
    "\t\t\tmy_list.append(i)\n",
    "\t\tif checkIfDuplicates_1(my_list) or sum(my_list) != 45:\n",
    "\t\t\treturn False\n",
    "\treturn True\n",
    "\n",
    "def check_cols(arr):\n",
    "\ttrans = arr.transpose()\n",
    "\treturn check_rows(trans)\n",
    "\n",
    "def func(arr, h, h2, e, e2):\n",
    "\tmy_list = [] \n",
    "\tfor i in range(h, h2):\n",
    "\t\tfor j in range(e, e2):\n",
    "\t\t\tmy_list.append(arr[i][j])\n",
    "\tif checkIfDuplicates_1(my_list) or sum(my_list) != 45:\n",
    "\t\treturn False\n",
    "\treturn True\n",
    "\n",
    "def check_blocks(arr):\n",
    "\tif(func(arr, 0,3,0,3) and\n",
    "\t\tfunc(arr, 0,3,3,6) and\n",
    "\t\tfunc(arr, 0,3,6,9) and\n",
    "\t\tfunc(arr, 3,6,0,3) and\n",
    "\t\tfunc(arr, 3,6,3,6) and\n",
    "\t\tfunc(arr, 3,6,6,9) and\n",
    "\t\tfunc(arr, 6,9,0,3) and\n",
    "\t\tfunc(arr, 6,9,3,6) and\n",
    "\t\tfunc(arr, 6,9,6,9)):\n",
    "\t\treturn True\n",
    "\telse:\n",
    "\t\treturn False\n",
    "\n",
    "\n",
    "def checkIfDuplicates_1(listOfElems):\n",
    "    if len(listOfElems) == len(set(listOfElems)):\n",
    "        return False\n",
    "    else:\n",
    "        return True\n",
    "\n",
    "\n",
    "## TRUE ACCURACY CHECK\n",
    "## Check random set of predictions and whether they are correctly solved sudokus: \n",
    "\n",
    "checkLength = 1000\n",
    "booleanList = []\n",
    "for i in range(0,checkLength):\n",
    "\tbooleanList.append(isSolved(all_reshaped[random.randint(0,14000)]))\n",
    "\n",
    "trues = booleanList.count(True)\n",
    "total_accuracy = trues / checkLength * 100\n",
    "\n",
    "print(\"#####################################################################\")\n",
    "print()\n",
    "print(\"ACCURACY: \")\n",
    "print(\"About \", total_accuracy, \" percent of predicted solutions are correct\")\n",
    "print(trues, \" of \", checkLength, \" predicted sudokus were solved correctly\")\n",
    "print()\n",
    "print(\"#####################################################################\")"
   ]
  },
  {
   "cell_type": "code",
   "execution_count": null,
   "metadata": {},
   "outputs": [],
   "source": [
    "\n"
   ]
  },
  {
   "cell_type": "code",
   "execution_count": 71,
   "metadata": {},
   "outputs": [],
   "source": [
    "## distribution of predicted values: \n",
    "#preds = np.round(n_prediction, decimals=0)\n",
    "#uniqueValues, occurCount = np.unique(preds, return_counts=True)\n",
    "\n",
    "#print(\"Unique Values in Prediction: \", uniqueValues)\n",
    "#print(\"Occurence Count in Prediction: \", occurCount)\n",
    "#print()"
   ]
  },
  {
   "cell_type": "code",
   "execution_count": 72,
   "metadata": {},
   "outputs": [],
   "source": [
    "## Plot Range of Values in Prediction\n",
    "#histogramP = plt.bar(uniqueValues, occurCount, )\n",
    "#plt.xlabel('Distribution of Digits in Sudoku Solutions')#plt.ylabel('Frequency')"
   ]
  },
  {
   "cell_type": "code",
   "execution_count": null,
   "metadata": {},
   "outputs": [],
   "source": [
    "\n",
    "            "
   ]
  },
  {
   "cell_type": "code",
   "execution_count": null,
   "metadata": {
    "scrolled": false
   },
   "outputs": [],
   "source": []
  }
 ],
 "metadata": {
  "kernelspec": {
   "display_name": "Python 3",
   "language": "python",
   "name": "python3"
  },
  "language_info": {
   "codemirror_mode": {
    "name": "ipython",
    "version": 3
   },
   "file_extension": ".py",
   "mimetype": "text/x-python",
   "name": "python",
   "nbconvert_exporter": "python",
   "pygments_lexer": "ipython3",
   "version": "3.7.7"
  }
 },
 "nbformat": 4,
 "nbformat_minor": 4
}
