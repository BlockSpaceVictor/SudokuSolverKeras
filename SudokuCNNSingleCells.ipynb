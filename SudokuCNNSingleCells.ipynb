{
 "cells": [
  {
   "cell_type": "code",
   "execution_count": null,
   "metadata": {},
   "outputs": [],
   "source": [
    "## given and entire unsolved sudoku, what is the value of just one cell? let's say, the first cell. "
   ]
  },
  {
   "cell_type": "code",
   "execution_count": 120,
   "metadata": {},
   "outputs": [
    {
     "name": "stdout",
     "output_type": "stream",
     "text": [
      "Done with concatenate\n"
     ]
    }
   ],
   "source": [
    "import numpy as np \n",
    "import pandas as pd\n",
    "import tensorflow as tf \n",
    "from tensorflow import keras\n",
    "from tensorflow.keras.layers import Input, Conv2D, Dense, Flatten, Dropout, BatchNormalization\n",
    "from tensorflow.keras.models import Model\n",
    "from tensorflow.keras.optimizers import SGD\n",
    "import random\n",
    "import matplotlib.pyplot as plt\n",
    "\n",
    "\n",
    "def their_data(filename, size):\n",
    "\tDATA_SIZE = size\n",
    "\tquizzes = np.zeros((DATA_SIZE, 81), np.int32)\n",
    "\tsolutions = np.zeros((DATA_SIZE, 81), np.int32)\n",
    "\tfor i, line in enumerate(open(filename, 'r').read().splitlines()[1:]):\n",
    "\t    quiz, solution = line.split(\",\")\n",
    "\t    for j, q_s in enumerate(zip(quiz, solution)):\n",
    "\t        q, s = q_s\n",
    "\t        quizzes[i, j] = q\n",
    "\t        solutions[i, j] = s\n",
    "\n",
    "\tquizzes = quizzes.reshape((-1, 9, 9))\n",
    "\tsolutions = solutions.reshape((-1, 9, 9))\n",
    "\treturn quizzes, solutions\n",
    "\n",
    "\n",
    "\n",
    "def my_data(filename, size):\n",
    "\tDATA_SIZE = size\n",
    "\tquizzes = np.zeros((DATA_SIZE, 81), np.int32)\n",
    "\tsolutions = np.zeros((DATA_SIZE, 81), np.int32)\n",
    "\tfor i, line in enumerate(open(filename, 'r').read().splitlines()[1:]):\n",
    "\t    quiz, solution = line.split(\",\")\n",
    "\t    quiz = quiz[1:-1]\n",
    "\t    solution = solution[2:-1]\n",
    "\t    for j, q_s in enumerate(zip(quiz, solution)):\n",
    "\t        q, s = q_s\n",
    "\t        quizzes[i, j] = q\n",
    "\t        solutions[i, j] = s\n",
    "\tquizzes = quizzes.reshape((-1, 9, 9))\n",
    "\tsolutions = solutions.reshape((-1, 9, 9))\n",
    "\treturn quizzes, solutions\n",
    "\n",
    "\n",
    "#qmillion, smillion = my_data(\"mixedSudokusBetter.csv\", 1000000)\n",
    "q30k, s30k = my_data(\"30k_mixedSudokus75_80.csv\", 30000)\n",
    "q80, s80 = my_data(\"s_make80.csv\", 5000)\n",
    "#qbig, sbig = their_data(\"1mTheirSudokus.csv\", 1000000)\n",
    "#print(\"Done with trivial files\")\n",
    "q1m, s1m = my_data(\"mixedSudokus1m.csv\", 1000000)\n",
    "#print(\"Done with file q1\")\n",
    "#q2m, s2m = my_data(\"mixedSudokus2m.csv\", 1000000)\n",
    "#print(\"Done with file q2\")\n",
    "#q3m, s3m = my_data(\"mixedSudokus3m.csv\", 1000000)\n",
    "#print(\"Done with file q3\")\n",
    "#q4m, s4m = my_data(\"mixedSudokus4m.csv\", 1000000)\n",
    "#print(\"Done with file reading\")\n",
    "\n",
    "\n",
    "mega_quiz = np.concatenate((q1m, q80, q30k), axis=0)\n",
    "mega_sol = np.concatenate((s1m, s80, s30k), axis=0)\n",
    "print(\"Done with concatenate\")"
   ]
  },
  {
   "cell_type": "code",
   "execution_count": 121,
   "metadata": {},
   "outputs": [
    {
     "data": {
      "text/plain": [
       "3"
      ]
     },
     "execution_count": 121,
     "metadata": {},
     "output_type": "execute_result"
    }
   ],
   "source": [
    "mega_sol[0][0][0]"
   ]
  },
  {
   "cell_type": "code",
   "execution_count": 122,
   "metadata": {},
   "outputs": [
    {
     "name": "stdout",
     "output_type": "stream",
     "text": [
      "3\n"
     ]
    },
    {
     "data": {
      "text/plain": [
       "(1035000,)"
      ]
     },
     "execution_count": 122,
     "metadata": {},
     "output_type": "execute_result"
    }
   ],
   "source": [
    "## extract the values of the very first cell of each solution\n",
    "def extract_values(numpy_arr, row, col):\n",
    "    values_of_cell = []\n",
    "    for i in range(len(numpy_arr)):\n",
    "        values_of_cell.append(mega_sol[i][row][col])\n",
    "    return np.asarray(values_of_cell)\n",
    "\n",
    "solutions = extract_values(mega_sol,0,0)\n",
    "\n",
    "print(solutions[0])\n",
    "\n",
    "solutions.shape"
   ]
  },
  {
   "cell_type": "code",
   "execution_count": 123,
   "metadata": {},
   "outputs": [
    {
     "name": "stdout",
     "output_type": "stream",
     "text": [
      "Done with mega shuffle\n",
      "Done with normalize\n",
      "added dimension\n"
     ]
    }
   ],
   "source": [
    "## Shuffle, normalize and add extra dimension to n_qmega because of convolution layers \n",
    "SEED = 42\n",
    "np.random.seed(SEED)\n",
    "np.random.shuffle(mega_quiz)\n",
    "np.random.seed(SEED)\n",
    "np.random.shuffle(solutions)\n",
    "\n",
    "print(\"Done with mega shuffle\")\n",
    "\n",
    "n_qmega = mega_quiz / 9.\n",
    "n_smega = solutions / 9.\n",
    "\n",
    "print(\"Done with normalize\")\n",
    "\n",
    "## add extra dimension: \n",
    "n_qmega = np.expand_dims(n_qmega, -1)\n",
    "\n",
    "print(\"added dimension\")"
   ]
  },
  {
   "cell_type": "code",
   "execution_count": 124,
   "metadata": {},
   "outputs": [
    {
     "name": "stdout",
     "output_type": "stream",
     "text": [
      "0.8888888888888888\n",
      "0.8888888888888888\n"
     ]
    }
   ],
   "source": [
    "print(n_qmega[10][0][0][0])\n",
    "print(n_smega[10])"
   ]
  },
  {
   "cell_type": "code",
   "execution_count": 126,
   "metadata": {},
   "outputs": [
    {
     "name": "stdout",
     "output_type": "stream",
     "text": [
      "Model: \"model_10\"\n",
      "_________________________________________________________________\n",
      "Layer (type)                 Output Shape              Param #   \n",
      "=================================================================\n",
      "input_12 (InputLayer)        [(None, 9, 9, 1)]         0         \n",
      "_________________________________________________________________\n",
      "conv2d_33 (Conv2D)           (None, 9, 9, 16)          160       \n",
      "_________________________________________________________________\n",
      "batch_normalization_25 (Batc (None, 9, 9, 16)          64        \n",
      "_________________________________________________________________\n",
      "conv2d_34 (Conv2D)           (None, 9, 9, 32)          4640      \n",
      "_________________________________________________________________\n",
      "batch_normalization_26 (Batc (None, 9, 9, 32)          128       \n",
      "_________________________________________________________________\n",
      "conv2d_35 (Conv2D)           (None, 9, 9, 64)          18496     \n",
      "_________________________________________________________________\n",
      "batch_normalization_27 (Batc (None, 9, 9, 64)          256       \n",
      "_________________________________________________________________\n",
      "flatten_11 (Flatten)         (None, 5184)              0         \n",
      "_________________________________________________________________\n",
      "dropout_11 (Dropout)         (None, 5184)              0         \n",
      "_________________________________________________________________\n",
      "dense_28 (Dense)             (None, 18)                93330     \n",
      "_________________________________________________________________\n",
      "dense_29 (Dense)             (None, 9)                 171       \n",
      "_________________________________________________________________\n",
      "dense_30 (Dense)             (None, 1)                 10        \n",
      "=================================================================\n",
      "Total params: 117,255\n",
      "Trainable params: 117,031\n",
      "Non-trainable params: 224\n",
      "_________________________________________________________________\n",
      "None\n",
      "Train on 1033965 samples, validate on 1035 samples\n",
      "Epoch 1/10\n",
      "1033965/1033965 [==============================] - 15s 15us/sample - loss: 0.0259 - accuracy: 0.1059 - val_loss: 0.0090 - val_accuracy: 0.0966\n",
      "Epoch 2/10\n",
      "1033965/1033965 [==============================] - 15s 14us/sample - loss: 0.0089 - accuracy: 0.1110 - val_loss: 0.0070 - val_accuracy: 0.0966\n",
      "Epoch 3/10\n",
      "1033965/1033965 [==============================] - 14s 14us/sample - loss: 0.0077 - accuracy: 0.1110 - val_loss: 0.0068 - val_accuracy: 0.0966\n",
      "Epoch 4/10\n",
      "1033965/1033965 [==============================] - 14s 14us/sample - loss: 0.0071 - accuracy: 0.1110 - val_loss: 0.0067 - val_accuracy: 0.0966\n",
      "Epoch 5/10\n",
      "1033965/1033965 [==============================] - 14s 14us/sample - loss: 0.0066 - accuracy: 0.1110 - val_loss: 0.0070 - val_accuracy: 0.0966\n",
      "Epoch 6/10\n",
      "1033965/1033965 [==============================] - 15s 15us/sample - loss: 0.0062 - accuracy: 0.1110 - val_loss: 0.0061 - val_accuracy: 0.0966\n",
      "Epoch 7/10\n",
      "1033965/1033965 [==============================] - 15s 14us/sample - loss: 0.0059 - accuracy: 0.1110 - val_loss: 0.0056 - val_accuracy: 0.0957\n",
      "Epoch 8/10\n",
      "1033965/1033965 [==============================] - 15s 14us/sample - loss: 0.0056 - accuracy: 0.1110 - val_loss: 0.0051 - val_accuracy: 0.0966\n",
      "Epoch 9/10\n",
      "1033965/1033965 [==============================] - 15s 14us/sample - loss: 0.0055 - accuracy: 0.1110 - val_loss: 0.0052 - val_accuracy: 0.0966\n",
      "Epoch 10/10\n",
      "1033965/1033965 [==============================] - 15s 14us/sample - loss: 0.0053 - accuracy: 0.1110 - val_loss: 0.0053 - val_accuracy: 0.0966\n"
     ]
    }
   ],
   "source": [
    "i = Input(shape=n_qmega[0].shape)\n",
    "x = Conv2D(16, (3,3), strides=1, activation='relu',padding='same')(i)\n",
    "x = BatchNormalization()(x)\n",
    "x = Conv2D(32, (3,3), strides=1, activation='relu',padding='same')(x)\n",
    "x = BatchNormalization()(x)\n",
    "x = Conv2D(64, (3,3), strides=1, activation='relu',padding='same')(x)\n",
    "x = BatchNormalization()(x)\n",
    "x = Flatten()(x)\n",
    "x = Dropout(0.2)(x)\n",
    "x = Dense(18, activation=\"relu\", bias_initializer=\"random_normal\")(x)\n",
    "x = Dense(9, activation=\"relu\", bias_initializer=\"random_normal\")(x)\n",
    "x = Dense(1, activation=\"linear\", bias_initializer=\"random_normal\")(x)\n",
    "\n",
    "model = Model(i, x)\n",
    "\n",
    "opt = keras.optimizers.Adam(lr=0.01)\n",
    "opt2 = keras.optimizers.SGD(lr=0.01, nesterov=True)\n",
    "\n",
    "## compile and fit model: \n",
    "\n",
    "model.compile(optimizer = 'adam',\n",
    "\tloss=\"mse\",\n",
    "\tmetrics=[\"accuracy\"])\n",
    "\n",
    "print(model.summary())\n",
    "\n",
    "r = model.fit(n_qmega, n_smega, epochs=10, batch_size=500, validation_split=0.001)"
   ]
  },
  {
   "cell_type": "code",
   "execution_count": 127,
   "metadata": {},
   "outputs": [
    {
     "data": {
      "text/plain": [
       "<matplotlib.legend.Legend at 0x264aee78e48>"
      ]
     },
     "execution_count": 127,
     "metadata": {},
     "output_type": "execute_result"
    },
    {
     "data": {
      "image/png": "[encoded data removed]",
      "text/plain": [
       "<Figure size 432x288 with 1 Axes>"
      ]
     },
     "metadata": {
      "needs_background": "light"
     },
     "output_type": "display_data"
    }
   ],
   "source": [
    "## Plot model loss over time\n",
    "plt.plot(r.history['loss'], label='loss')\n",
    "plt.plot(r.history['val_loss'], label='val_loss')\n",
    "plt.legend()"
   ]
  },
  {
   "cell_type": "code",
   "execution_count": 128,
   "metadata": {},
   "outputs": [
    {
     "data": {
      "text/plain": [
       "<matplotlib.legend.Legend at 0x264add7b9c8>"
      ]
     },
     "execution_count": 128,
     "metadata": {},
     "output_type": "execute_result"
    },
    {
     "data": {
      "image/png": "[encoded data removed]",
      "text/plain": [
       "<Figure size 432x288 with 1 Axes>"
      ]
     },
     "metadata": {
      "needs_background": "light"
     },
     "output_type": "display_data"
    }
   ],
   "source": [
    "# Plot model accuracy over time\n",
    "plt.plot(r.history['accuracy'], label='acc')\n",
    "plt.plot(r.history['val_accuracy'], label='val_acc')\n",
    "plt.legend()"
   ]
  },
  {
   "cell_type": "code",
   "execution_count": 129,
   "metadata": {},
   "outputs": [
    {
     "name": "stdout",
     "output_type": "stream",
     "text": [
      "given: \n",
      "[[2. 5. 6. 3. 8. 0. 0. 7. 1.]\n",
      " [1. 7. 9. 6. 0. 2. 8. 0. 4.]\n",
      " [4. 0. 3. 7. 9. 0. 2. 6. 5.]\n",
      " [6. 1. 0. 8. 0. 5. 7. 9. 0.]\n",
      " [0. 9. 0. 4. 1. 7. 6. 5. 0.]\n",
      " [0. 2. 7. 9. 3. 6. 4. 1. 8.]\n",
      " [7. 3. 0. 2. 4. 9. 1. 8. 6.]\n",
      " [8. 0. 2. 0. 0. 3. 5. 4. 9.]\n",
      " [9. 4. 1. 0. 0. 8. 3. 2. 7.]]\n",
      "prediction: \n",
      "2.0\n",
      "solution: \n",
      "2.0\n"
     ]
    }
   ],
   "source": [
    "## check model training \n",
    "\n",
    "validation = n_qmega[0:15000,:,:,:]\n",
    "validation_solutions = n_smega[0:15000,]\n",
    "\n",
    "n_prediction = model.predict(validation)\n",
    "\n",
    "n_qmega_r = validation.reshape(15000, 9, 9)\n",
    "\n",
    "n_qmega_r = n_qmega_r * 9\n",
    "n_prediction = n_prediction * 9\n",
    "n_smega_r = validation_solutions * 9\n",
    "\n",
    "print(\"given: \")\n",
    "print(np.round(n_qmega_r[0], decimals=0))\n",
    "print(\"prediction: \")\n",
    "print(np.round(n_prediction[0][0], decimals=0))\n",
    "print(\"solution: \")\n",
    "print(np.round(n_smega_r[0], decimals=0))"
   ]
  },
  {
   "cell_type": "code",
   "execution_count": 130,
   "metadata": {},
   "outputs": [
    {
     "name": "stdout",
     "output_type": "stream",
     "text": [
      "1.8366901\n"
     ]
    }
   ],
   "source": [
    "print(n_prediction[0][0])\n"
   ]
  },
  {
   "cell_type": "code",
   "execution_count": 131,
   "metadata": {},
   "outputs": [
    {
     "name": "stdout",
     "output_type": "stream",
     "text": [
      "Unique Values in Prediction:  [ 0.  1.  2.  3.  4.  5.  6.  7.  8.  9. 10.]\n",
      "Occurence Count in Prediction:  [   1 1459 1755 1633 1670 1846 1826 1804 1528 1465   13]\n",
      "\n"
     ]
    }
   ],
   "source": [
    "## distribution of predicted values: \n",
    "preds = np.round(n_prediction, decimals=0)\n",
    "uniqueValues, occurCount = np.unique(preds, return_counts=True)\n",
    "\n",
    "print(\"Unique Values in Prediction: \", uniqueValues)\n",
    "print(\"Occurence Count in Prediction: \", occurCount)\n",
    "print()"
   ]
  },
  {
   "cell_type": "code",
   "execution_count": 132,
   "metadata": {},
   "outputs": [
    {
     "data": {
      "text/plain": [
       "Text(0, 0.5, 'Frequency')"
      ]
     },
     "execution_count": 132,
     "metadata": {},
     "output_type": "execute_result"
    },
    {
     "data": {
      "image/png": "[encoded data removed]",
      "text/plain": [
       "<Figure size 432x288 with 1 Axes>"
      ]
     },
     "metadata": {
      "needs_background": "light"
     },
     "output_type": "display_data"
    }
   ],
   "source": [
    "## Plot Range of Values in Prediction\n",
    "histogramP = plt.bar(uniqueValues, occurCount, )\n",
    "plt.xlabel('Distribution of Digits in Sudoku Solutions')\n",
    "plt.ylabel('Frequency')"
   ]
  },
  {
   "cell_type": "code",
   "execution_count": 133,
   "metadata": {},
   "outputs": [
    {
     "name": "stdout",
     "output_type": "stream",
     "text": [
      "####################################################################\n",
      "87.19  percent of predicted cells matched the solutions\n",
      "there were  8719  correct predictions in  10000  predictions\n",
      "####################################################################\n"
     ]
    }
   ],
   "source": [
    "## check overall accuarcy of predictions \n",
    "# n_qmega_r, n_prediction, n_smega_r\n",
    "def check_predictions(np_arr_prediction, np_arr_solution):\n",
    "    bool_list =[]\n",
    "    for i in range(10000):\n",
    "        bool_list.append(np.round(np_arr_solution[i], decimals=0) == np.round(np_arr_prediction[i][0], decimals=0))\n",
    "    return bool_list\n",
    "\n",
    "booleanList = check_predictions(n_prediction, n_smega_r)\n",
    "trues = booleanList.count(True)\n",
    "total_accuracy = trues / len(booleanList) * 100\n",
    "\n",
    "print(\"####################################################################\")\n",
    "print(total_accuracy, \" percent of predicted cells matched the solutions\")\n",
    "print(\"there were \", trues, \" correct predictions in \", len(booleanList), \" predictions\")\n",
    "print(\"####################################################################\")\n",
    "            "
   ]
  },
  {
   "cell_type": "code",
   "execution_count": null,
   "metadata": {
    "scrolled": true
   },
   "outputs": [],
   "source": []
  }
 ],
 "metadata": {
  "kernelspec": {
   "display_name": "Python 3",
   "language": "python",
   "name": "python3"
  },
  "language_info": {
   "codemirror_mode": {
    "name": "ipython",
    "version": 3
   },
   "file_extension": ".py",
   "mimetype": "text/x-python",
   "name": "python",
   "nbconvert_exporter": "python",
   "pygments_lexer": "ipython3",
   "version": "3.7.7"
  }
 },
 "nbformat": 4,
 "nbformat_minor": 4
}
